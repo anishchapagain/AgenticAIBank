{
 "cells": [
  {
   "cell_type": "markdown",
   "metadata": {},
   "source": [
    "## Read and Clean Data with EDA Reports"
   ]
  },
  {
   "cell_type": "code",
   "execution_count": 72,
   "metadata": {},
   "outputs": [],
   "source": [
    "import pandas as pd"
   ]
  },
  {
   "cell_type": "code",
   "execution_count": 73,
   "metadata": {},
   "outputs": [],
   "source": [
    "account_df = pd.read_csv('../data/AccountData.csv')  # AccountData"
   ]
  },
  {
   "cell_type": "markdown",
   "metadata": {},
   "source": [
    "### Column rename & Code mapping"
   ]
  },
  {
   "cell_type": "code",
   "execution_count": 74,
   "metadata": {},
   "outputs": [],
   "source": [
    "ACCOUNT_COLUMNS = '../data/account_column_names.json' # AccountData column names\n",
    "\n",
    "BRANCH = '../data/branch.json' # Branch code to name\n",
    "ACCOUNTTYPE = '../data/accounttype.json' # Account code to name\n",
    "INDUSTRY = '../data/industry.json' # Industry code to name\n",
    "SECTOR = '../data/sector.json' # Sector code to name\n",
    "CATEGORY = '../data/category.json' # Category code to name"
   ]
  },
  {
   "cell_type": "code",
   "execution_count": 75,
   "metadata": {},
   "outputs": [],
   "source": [
    "\n",
    "# Rename existing columns to more descriptive names\n",
    " \n",
    "read_columns = pd.read_json(ACCOUNT_COLUMNS)\n",
    "column_mapping = dict(zip(read_columns['column'], read_columns['column_name']))\n",
    "account_df.rename(columns=column_mapping, inplace=True)"
   ]
  },
  {
   "cell_type": "code",
   "execution_count": 76,
   "metadata": {},
   "outputs": [
    {
     "data": {
      "text/plain": [
       "Index(['customer_id', 'customer_name', 'nationality', 'residency_status',\n",
       "       'customer_industry', 'economic_sector', 'bank_branch', 'account_type',\n",
       "       'account_number', 'currency_code', 'account_category',\n",
       "       'account_balance', 'local_currency_balance', 'mobile_banking',\n",
       "       'internet_banking', 'account_service', 'kyc_status', 'account_inactive',\n",
       "       'mobile_number', 'account_open_date', 'last_debit_date',\n",
       "       'last_credit_date', 'date_of_birth'],\n",
       "      dtype='object')"
      ]
     },
     "execution_count": 76,
     "metadata": {},
     "output_type": "execute_result"
    }
   ],
   "source": [
    "account_df.columns"
   ]
  },
  {
   "cell_type": "markdown",
   "metadata": {},
   "source": [
    "#### Rename the branch, account, industry, sector and category codes to their respective names\n",
    "#### Steps should also replicate with other CSV data."
   ]
  },
  {
   "cell_type": "code",
   "execution_count": 77,
   "metadata": {},
   "outputs": [],
   "source": [
    "# Rename the branch, account, industry, sector and category codes to their respective names\n",
    "\n",
    "def column_mapping(file_path, old_column, new_column):\n",
    "    cols = pd.read_json(file_path)\n",
    "    mapping = dict(\n",
    "        zip(cols[old_column], cols[new_column])\n",
    "    )\n",
    "    return mapping\n",
    "\n",
    "branch = column_mapping(BRANCH, 'Code', 'Desc') # Code: values in dataframe, Desc: code description or name\n",
    "accounttype = column_mapping(ACCOUNTTYPE, 'Code', 'Desc') # Code: values in dataframe, Desc: code description or name\n",
    "industry = column_mapping(INDUSTRY, 'Code', 'Desc') # Code: values in dataframe, Desc: code description or name\n",
    "sector = column_mapping(SECTOR, 'Code', 'Desc') # Code: values in dataframe, Desc: code description or name\n",
    "category = column_mapping(CATEGORY, 'Code', 'Desc') # Code: values in dataframe, Desc: code description or name"
   ]
  },
  {
   "cell_type": "code",
   "execution_count": 78,
   "metadata": {},
   "outputs": [
    {
     "data": {
      "text/plain": [
       "Index(['customer_id', 'customer_name', 'nationality', 'residency_status',\n",
       "       'customer_industry', 'economic_sector', 'bank_branch', 'account_type',\n",
       "       'account_number', 'currency_code', 'account_category',\n",
       "       'account_balance', 'local_currency_balance', 'mobile_banking',\n",
       "       'internet_banking', 'account_service', 'kyc_status', 'account_inactive',\n",
       "       'mobile_number', 'account_open_date', 'last_debit_date',\n",
       "       'last_credit_date', 'date_of_birth'],\n",
       "      dtype='object')"
      ]
     },
     "execution_count": 78,
     "metadata": {},
     "output_type": "execute_result"
    }
   ],
   "source": [
    "account_df.columns"
   ]
  },
  {
   "cell_type": "code",
   "execution_count": 80,
   "metadata": {},
   "outputs": [],
   "source": [
    "# Map the codes to their respective names\n",
    "\n",
    "# Convert the columns values to specific data type if needed\n",
    "# Replace unwanted values other than numeric with 0000\n",
    "account_df['bank_branch'] = pd.to_numeric(account_df['bank_branch'], errors='coerce') #TEST\n",
    "account_df['account_type'] = pd.to_numeric(account_df['account_type'], errors='coerce')\n",
    "account_df['customer_industry'] = pd.to_numeric(account_df['customer_industry'], errors='coerce')\n",
    "account_df['economic_sector'] = pd.to_numeric(account_df['economic_sector'], errors='coerce')\n",
    "account_df['account_category'] = pd.to_numeric(account_df['account_category'], errors='coerce')\n",
    "\n",
    "\n",
    "# Use renamed columns name here. For example, actype > account_type\n",
    "# Fill the NaN vlaues with some default like 'NA_BRANCH' or 'NA_ACCOUNTTYPE'\n",
    "\n",
    "account_df[\"bank_branch\"] = account_df[\"bank_branch\"].map(branch).fillna('NA_BRANCH')\n",
    "account_df[\"account_type\"] = account_df[\"account_type\"].map(accounttype).fillna('NA_ACCOUNTTYPE')\n",
    "account_df[\"customer_industry\"] = account_df[\"customer_industry\"].map(industry).fillna('NA_INDUSTRY')\n",
    "account_df[\"economic_sector\"] = account_df[\"economic_sector\"].map(sector).fillna('NA_SECTOR')\n",
    "account_df[\"account_category\"] = account_df[\"account_category\"].map(category).fillna('NA_CATEGORY')\n",
    "\n",
    "# Steps should also replicate with other CSV data.\n",
    "# bank_branch, customer_industry, economic_sector, account_category can still be shortened to branch, industry, sector, category\n",
    "\n",
    "# Replace spaces with underscores\n",
    "# account_df.columns = account_df.columns.str.replace(' ', '_')"
   ]
  },
  {
   "cell_type": "code",
   "execution_count": 81,
   "metadata": {},
   "outputs": [
    {
     "data": {
      "text/plain": [
       "Index(['customer_id', 'customer_name', 'nationality', 'residency_status',\n",
       "       'industry', 'sector', 'branch', 'account_type', 'account_number',\n",
       "       'currency_code', 'category', 'account_balance',\n",
       "       'local_currency_balance', 'mobile_banking', 'internet_banking',\n",
       "       'account_service', 'kyc_status', 'account_inactive', 'mobile_number',\n",
       "       'account_open_date', 'last_debit_date', 'last_credit_date',\n",
       "       'date_of_birth'],\n",
       "      dtype='object')"
      ]
     },
     "execution_count": 81,
     "metadata": {},
     "output_type": "execute_result"
    }
   ],
   "source": [
    "# Renaming columns: As Applicable\n",
    "\n",
    "account_df.rename(columns={'bank_branch': 'branch', 'customer_industry': 'industry', 'economic_sector': 'sector', 'account_category':'category'}, inplace=True)\n",
    "account_df.columns"
   ]
  },
  {
   "cell_type": "code",
   "execution_count": 82,
   "metadata": {},
   "outputs": [
    {
     "data": {
      "text/html": [
       "<div>\n",
       "<style scoped>\n",
       "    .dataframe tbody tr th:only-of-type {\n",
       "        vertical-align: middle;\n",
       "    }\n",
       "\n",
       "    .dataframe tbody tr th {\n",
       "        vertical-align: top;\n",
       "    }\n",
       "\n",
       "    .dataframe thead th {\n",
       "        text-align: right;\n",
       "    }\n",
       "</style>\n",
       "<table border=\"1\" class=\"dataframe\">\n",
       "  <thead>\n",
       "    <tr style=\"text-align: right;\">\n",
       "      <th></th>\n",
       "      <th>branch</th>\n",
       "      <th>account_type</th>\n",
       "      <th>industry</th>\n",
       "      <th>sector</th>\n",
       "      <th>category</th>\n",
       "    </tr>\n",
       "  </thead>\n",
       "  <tbody>\n",
       "    <tr>\n",
       "      <th>0</th>\n",
       "      <td>CORPORATE OFFICE</td>\n",
       "      <td>Savings account - staff</td>\n",
       "      <td>STAFF</td>\n",
       "      <td>LOCAL - PERSONS</td>\n",
       "      <td>Savings Account (STAFF)</td>\n",
       "    </tr>\n",
       "    <tr>\n",
       "      <th>1</th>\n",
       "      <td>CORPORATE OFFICE</td>\n",
       "      <td>NA_ACCOUNTTYPE</td>\n",
       "      <td>STAFF</td>\n",
       "      <td>LOCAL - PERSONS</td>\n",
       "      <td>NA_CATEGORY</td>\n",
       "    </tr>\n",
       "    <tr>\n",
       "      <th>2</th>\n",
       "      <td>CORPORATE OFFICE</td>\n",
       "      <td>All Other Types</td>\n",
       "      <td>STAFF</td>\n",
       "      <td>LOCAL - PERSONS</td>\n",
       "      <td>Margin on Goods for Payments</td>\n",
       "    </tr>\n",
       "    <tr>\n",
       "      <th>3</th>\n",
       "      <td>CORPORATE OFFICE</td>\n",
       "      <td>Savings account - staff</td>\n",
       "      <td>STAFF</td>\n",
       "      <td>LOCAL - PERSONS</td>\n",
       "      <td>Savings Account (STAFF)</td>\n",
       "    </tr>\n",
       "    <tr>\n",
       "      <th>4</th>\n",
       "      <td>CORPORATE OFFICE</td>\n",
       "      <td>Savings account - staff</td>\n",
       "      <td>STAFF</td>\n",
       "      <td>LOCAL - PERSONS</td>\n",
       "      <td>Savings Account (STAFF)</td>\n",
       "    </tr>\n",
       "    <tr>\n",
       "      <th>5</th>\n",
       "      <td>CORPORATE OFFICE</td>\n",
       "      <td>Savings account - staff</td>\n",
       "      <td>STAFF</td>\n",
       "      <td>LOCAL - PERSONS</td>\n",
       "      <td>Savings Account (STAFF)</td>\n",
       "    </tr>\n",
       "    <tr>\n",
       "      <th>6</th>\n",
       "      <td>CORPORATE OFFICE</td>\n",
       "      <td>NA_ACCOUNTTYPE</td>\n",
       "      <td>STAFF</td>\n",
       "      <td>LOCAL - PERSONS</td>\n",
       "      <td>NA_CATEGORY</td>\n",
       "    </tr>\n",
       "    <tr>\n",
       "      <th>7</th>\n",
       "      <td>CORPORATE OFFICE</td>\n",
       "      <td>Savings account - staff</td>\n",
       "      <td>STAFF</td>\n",
       "      <td>LOCAL - PERSONS</td>\n",
       "      <td>Savings Account (STAFF)</td>\n",
       "    </tr>\n",
       "    <tr>\n",
       "      <th>8</th>\n",
       "      <td>CORPORATE OFFICE</td>\n",
       "      <td>Savings account - staff</td>\n",
       "      <td>STAFF</td>\n",
       "      <td>LOCAL - PERSONS</td>\n",
       "      <td>Savings Account (STAFF)</td>\n",
       "    </tr>\n",
       "    <tr>\n",
       "      <th>9</th>\n",
       "      <td>CORPORATE OFFICE</td>\n",
       "      <td>Savings account - staff</td>\n",
       "      <td>STAFF</td>\n",
       "      <td>LOCAL - PERSONS</td>\n",
       "      <td>Savings Account (STAFF)</td>\n",
       "    </tr>\n",
       "  </tbody>\n",
       "</table>\n",
       "</div>"
      ],
      "text/plain": [
       "             branch             account_type industry           sector  \\\n",
       "0  CORPORATE OFFICE  Savings account - staff    STAFF  LOCAL - PERSONS   \n",
       "1  CORPORATE OFFICE           NA_ACCOUNTTYPE    STAFF  LOCAL - PERSONS   \n",
       "2  CORPORATE OFFICE          All Other Types    STAFF  LOCAL - PERSONS   \n",
       "3  CORPORATE OFFICE  Savings account - staff    STAFF  LOCAL - PERSONS   \n",
       "4  CORPORATE OFFICE  Savings account - staff    STAFF  LOCAL - PERSONS   \n",
       "5  CORPORATE OFFICE  Savings account - staff    STAFF  LOCAL - PERSONS   \n",
       "6  CORPORATE OFFICE           NA_ACCOUNTTYPE    STAFF  LOCAL - PERSONS   \n",
       "7  CORPORATE OFFICE  Savings account - staff    STAFF  LOCAL - PERSONS   \n",
       "8  CORPORATE OFFICE  Savings account - staff    STAFF  LOCAL - PERSONS   \n",
       "9  CORPORATE OFFICE  Savings account - staff    STAFF  LOCAL - PERSONS   \n",
       "\n",
       "                       category  \n",
       "0       Savings Account (STAFF)  \n",
       "1                   NA_CATEGORY  \n",
       "2  Margin on Goods for Payments  \n",
       "3       Savings Account (STAFF)  \n",
       "4       Savings Account (STAFF)  \n",
       "5       Savings Account (STAFF)  \n",
       "6                   NA_CATEGORY  \n",
       "7       Savings Account (STAFF)  \n",
       "8       Savings Account (STAFF)  \n",
       "9       Savings Account (STAFF)  "
      ]
     },
     "execution_count": 82,
     "metadata": {},
     "output_type": "execute_result"
    }
   ],
   "source": [
    "account_df[['branch', 'account_type', 'industry', 'sector', 'category']].head(10)"
   ]
  },
  {
   "cell_type": "code",
   "execution_count": 83,
   "metadata": {},
   "outputs": [
    {
     "data": {
      "text/plain": [
       "branch\n",
       "DAMAULI BRANCH        14414\n",
       "CORPORATE OFFICE       1953\n",
       "NA_BRANCH                 8\n",
       "BHAIRAHAWA BRANCH         4\n",
       "POKHARA BRANCH            2\n",
       "MAHENDRAPUL BRANCH        2\n",
       "Name: count, dtype: int64"
      ]
     },
     "execution_count": 83,
     "metadata": {},
     "output_type": "execute_result"
    }
   ],
   "source": [
    "account_df['branch'].value_counts()"
   ]
  },
  {
   "cell_type": "code",
   "execution_count": 124,
   "metadata": {},
   "outputs": [
    {
     "data": {
      "text/plain": [
       "industry\n",
       "INDIVIDUALS               14019\n",
       "OTHERS                       62\n",
       "INSURANCE COMPANIES          24\n",
       "OTHER SERVICE INDUSTRY        6\n",
       "NEPAL POLICE                  3\n",
       "RICE & PULSE                  3\n",
       "GEMS & JEWELLERY              2\n",
       "TRUSTS                        2\n",
       "***TRADE & COMMERCE***        1\n",
       "Name: count, dtype: int64"
      ]
     },
     "execution_count": 124,
     "metadata": {},
     "output_type": "execute_result"
    }
   ],
   "source": [
    "account_df['industry'].value_counts()[::5]"
   ]
  },
  {
   "cell_type": "code",
   "execution_count": 123,
   "metadata": {},
   "outputs": [
    {
     "data": {
      "text/plain": [
       "sector\n",
       "LOCAL - PERSONS                        15674\n",
       "NON-GOVERNMENTAL ORGANISATION (NGO)       90\n",
       "LOCAL - PRIVATE                           14\n",
       "INTERNATIONAL CORPORATE                    1\n",
       "Name: count, dtype: int64"
      ]
     },
     "execution_count": 123,
     "metadata": {},
     "output_type": "execute_result"
    }
   ],
   "source": [
    "account_df['sector'].value_counts()[::5]"
   ]
  },
  {
   "cell_type": "code",
   "execution_count": 122,
   "metadata": {},
   "outputs": [
    {
     "data": {
      "text/plain": [
       "category\n",
       "Savings Account(DAM)                  3828\n",
       "Savings Account (STAFF)               1199\n",
       "Current Account with 1000 Min Bal      167\n",
       "Nostro A/c - NRB                        40\n",
       "Margin on Guarantee                     27\n",
       "Atm Rec / Payable Accounts              12\n",
       "Overdraft Account - Privelage Loan       8\n",
       "Margin on Letter of Credit               6\n",
       "Overdraft Account - Trading              1\n",
       "Name: count, dtype: int64"
      ]
     },
     "execution_count": 122,
     "metadata": {},
     "output_type": "execute_result"
    }
   ],
   "source": [
    "account_df['category'].value_counts()[::5]"
   ]
  },
  {
   "cell_type": "code",
   "execution_count": 116,
   "metadata": {},
   "outputs": [
    {
     "data": {
      "text/plain": [
       "account_type\n",
       "Savings regular & convertible    6523\n",
       "Pewa Bachat Account              2407\n",
       "Yuba Bachat Khata                1967\n",
       "Savings Account(Salary A/C)      1616\n",
       "Savings account - staff          1199\n",
       "Name: count, dtype: int64"
      ]
     },
     "execution_count": 116,
     "metadata": {},
     "output_type": "execute_result"
    }
   ],
   "source": [
    "account_df['account_type'].value_counts()[:5]"
   ]
  },
  {
   "cell_type": "markdown",
   "metadata": {},
   "source": [
    "#### Check Duplicates"
   ]
  },
  {
   "cell_type": "code",
   "execution_count": 179,
   "metadata": {},
   "outputs": [
    {
     "data": {
      "text/plain": [
       "1"
      ]
     },
     "execution_count": 179,
     "metadata": {},
     "output_type": "execute_result"
    }
   ],
   "source": [
    "account_df.duplicated().sum()"
   ]
  },
  {
   "cell_type": "code",
   "execution_count": 180,
   "metadata": {},
   "outputs": [],
   "source": [
    "dup = account_df.duplicated()"
   ]
  },
  {
   "cell_type": "code",
   "execution_count": 181,
   "metadata": {},
   "outputs": [
    {
     "data": {
      "text/plain": [
       "1905    True\n",
       "dtype: bool"
      ]
     },
     "execution_count": 181,
     "metadata": {},
     "output_type": "execute_result"
    }
   ],
   "source": [
    "dup[dup == True]"
   ]
  },
  {
   "cell_type": "code",
   "execution_count": 182,
   "metadata": {},
   "outputs": [
    {
     "data": {
      "text/html": [
       "<div>\n",
       "<style scoped>\n",
       "    .dataframe tbody tr th:only-of-type {\n",
       "        vertical-align: middle;\n",
       "    }\n",
       "\n",
       "    .dataframe tbody tr th {\n",
       "        vertical-align: top;\n",
       "    }\n",
       "\n",
       "    .dataframe thead th {\n",
       "        text-align: right;\n",
       "    }\n",
       "</style>\n",
       "<table border=\"1\" class=\"dataframe\">\n",
       "  <thead>\n",
       "    <tr style=\"text-align: right;\">\n",
       "      <th></th>\n",
       "      <th>customer_id</th>\n",
       "      <th>customer_name</th>\n",
       "      <th>nationality</th>\n",
       "      <th>residency_status</th>\n",
       "      <th>industry</th>\n",
       "      <th>sector</th>\n",
       "      <th>branch</th>\n",
       "      <th>account_type</th>\n",
       "      <th>account_number</th>\n",
       "      <th>currency_code</th>\n",
       "      <th>...</th>\n",
       "      <th>mobile_banking</th>\n",
       "      <th>internet_banking</th>\n",
       "      <th>account_service</th>\n",
       "      <th>kyc_status</th>\n",
       "      <th>account_inactive</th>\n",
       "      <th>mobile_number</th>\n",
       "      <th>account_open_date</th>\n",
       "      <th>last_debit_date</th>\n",
       "      <th>last_credit_date</th>\n",
       "      <th>date_of_birth</th>\n",
       "    </tr>\n",
       "  </thead>\n",
       "  <tbody>\n",
       "    <tr>\n",
       "      <th>1905</th>\n",
       "      <td>284</td>\n",
       "      <td>NEPAL RASTRA BANK</td>\n",
       "      <td>NP</td>\n",
       "      <td>NP</td>\n",
       "      <td>***FINANCE &amp; FIN. INST.***</td>\n",
       "      <td>NA_SECTOR</td>\n",
       "      <td>CORPORATE OFFICE</td>\n",
       "      <td>Nostro</td>\n",
       "      <td>1.450000e+10</td>\n",
       "      <td>USD</td>\n",
       "      <td>...</td>\n",
       "      <td>False</td>\n",
       "      <td>False</td>\n",
       "      <td>True</td>\n",
       "      <td>False</td>\n",
       "      <td>False</td>\n",
       "      <td>0.0</td>\n",
       "      <td>-   -</td>\n",
       "      <td>-   -</td>\n",
       "      <td>-   -</td>\n",
       "      <td>-   -</td>\n",
       "    </tr>\n",
       "  </tbody>\n",
       "</table>\n",
       "<p>1 rows × 23 columns</p>\n",
       "</div>"
      ],
      "text/plain": [
       "      customer_id      customer_name nationality residency_status  \\\n",
       "1905          284  NEPAL RASTRA BANK          NP               NP   \n",
       "\n",
       "                        industry     sector            branch account_type  \\\n",
       "1905  ***FINANCE & FIN. INST.***  NA_SECTOR  CORPORATE OFFICE       Nostro   \n",
       "\n",
       "      account_number currency_code  ... mobile_banking  internet_banking  \\\n",
       "1905    1.450000e+10           USD  ...          False             False   \n",
       "\n",
       "      account_service  kyc_status  account_inactive  mobile_number  \\\n",
       "1905             True       False             False            0.0   \n",
       "\n",
       "      account_open_date  last_debit_date  last_credit_date date_of_birth  \n",
       "1905              -   -            -   -             -   -         -   -  \n",
       "\n",
       "[1 rows x 23 columns]"
      ]
     },
     "execution_count": 182,
     "metadata": {},
     "output_type": "execute_result"
    }
   ],
   "source": [
    "# Get the duplicated row indexes & row\n",
    "\n",
    "account_df.iloc[dup[dup == True].index]"
   ]
  },
  {
   "cell_type": "code",
   "execution_count": 183,
   "metadata": {},
   "outputs": [],
   "source": [
    "# Drop the duplicated rows\n",
    "account_df.drop_duplicates(inplace=True)"
   ]
  },
  {
   "cell_type": "code",
   "execution_count": 184,
   "metadata": {},
   "outputs": [
    {
     "data": {
      "text/plain": [
       "0"
      ]
     },
     "execution_count": 184,
     "metadata": {},
     "output_type": "execute_result"
    }
   ],
   "source": [
    "account_df.duplicated().sum()  # Check if there are any duplicates"
   ]
  },
  {
   "cell_type": "markdown",
   "metadata": {},
   "source": [
    "### Check & Change Column Type\n",
    "\n",
    "#### Check duplicates first"
   ]
  },
  {
   "cell_type": "code",
   "execution_count": 185,
   "metadata": {},
   "outputs": [
    {
     "name": "stdout",
     "output_type": "stream",
     "text": [
      "<class 'pandas.core.frame.DataFrame'>\n",
      "Index: 16381 entries, 0 to 16382\n",
      "Data columns (total 23 columns):\n",
      " #   Column                  Non-Null Count  Dtype  \n",
      "---  ------                  --------------  -----  \n",
      " 0   customer_id             16381 non-null  int32  \n",
      " 1   customer_name           16381 non-null  object \n",
      " 2   nationality             16381 non-null  object \n",
      " 3   residency_status        16381 non-null  object \n",
      " 4   industry                16381 non-null  object \n",
      " 5   sector                  16381 non-null  object \n",
      " 6   branch                  16381 non-null  object \n",
      " 7   account_type            16381 non-null  object \n",
      " 8   account_number          16381 non-null  float32\n",
      " 9   currency_code           16381 non-null  object \n",
      " 10  category                16381 non-null  object \n",
      " 11  account_balance         16381 non-null  float32\n",
      " 12  local_currency_balance  16381 non-null  float32\n",
      " 13  mobile_banking          16381 non-null  bool   \n",
      " 14  internet_banking        16381 non-null  bool   \n",
      " 15  account_service         16381 non-null  bool   \n",
      " 16  kyc_status              16381 non-null  bool   \n",
      " 17  account_inactive        16381 non-null  bool   \n",
      " 18  mobile_number           16381 non-null  float32\n",
      " 19  account_open_date       16381 non-null  object \n",
      " 20  last_debit_date         16381 non-null  object \n",
      " 21  last_credit_date        16381 non-null  object \n",
      " 22  date_of_birth           16381 non-null  object \n",
      "dtypes: bool(5), float32(4), int32(1), object(13)\n",
      "memory usage: 2.1+ MB\n"
     ]
    }
   ],
   "source": [
    "account_df.info()"
   ]
  },
  {
   "cell_type": "code",
   "execution_count": null,
   "metadata": {},
   "outputs": [],
   "source": [
    "# Account Number and Mobile No should be Numeric"
   ]
  },
  {
   "cell_type": "code",
   "execution_count": 108,
   "metadata": {},
   "outputs": [
    {
     "data": {
      "text/plain": [
       "102"
      ]
     },
     "execution_count": 108,
     "metadata": {},
     "output_type": "execute_result"
    }
   ],
   "source": [
    "account_df['mobile_number'].isnull().sum()"
   ]
  },
  {
   "cell_type": "code",
   "execution_count": null,
   "metadata": {},
   "outputs": [],
   "source": [
    "# Fill empty mobile numbers with 0000000000\n",
    "\n",
    "account_df.fillna({'mobile_number': 0000000000}, inplace=True)"
   ]
  },
  {
   "cell_type": "code",
   "execution_count": 111,
   "metadata": {},
   "outputs": [
    {
     "data": {
      "text/plain": [
       "0"
      ]
     },
     "execution_count": 111,
     "metadata": {},
     "output_type": "execute_result"
    }
   ],
   "source": [
    "account_df['mobile_number'].isnull().sum()"
   ]
  },
  {
   "cell_type": "code",
   "execution_count": 112,
   "metadata": {},
   "outputs": [
    {
     "data": {
      "text/plain": [
       "mobile_number\n",
       "0000000000    102\n",
       "20171022       43\n",
       "9.78E+12       35\n",
       "20091206       33\n",
       "20170908       32\n",
       "             ... \n",
       "9846088976      1\n",
       "9843507814      1\n",
       "9819120294      1\n",
       "9813756685      1\n",
       "9844408236      1\n",
       "Name: count, Length: 13210, dtype: int64"
      ]
     },
     "execution_count": 112,
     "metadata": {},
     "output_type": "execute_result"
    }
   ],
   "source": [
    "account_df['mobile_number'].value_counts()"
   ]
  },
  {
   "cell_type": "code",
   "execution_count": 115,
   "metadata": {},
   "outputs": [
    {
     "name": "stdout",
     "output_type": "stream",
     "text": [
      "<class 'pandas.core.series.Series'>\n",
      "Index: 16382 entries, 0 to 16382\n",
      "Series name: mobile_number\n",
      "Non-Null Count  Dtype \n",
      "--------------  ----- \n",
      "16382 non-null  object\n",
      "dtypes: object(1)\n",
      "memory usage: 256.0+ KB\n"
     ]
    }
   ],
   "source": [
    "account_df['mobile_number'].info()"
   ]
  },
  {
   "cell_type": "code",
   "execution_count": 142,
   "metadata": {},
   "outputs": [
    {
     "name": "stdout",
     "output_type": "stream",
     "text": [
      "<class 'pandas.core.series.Series'>\n",
      "Index: 16382 entries, 0 to 16382\n",
      "Series name: account_number\n",
      "Non-Null Count  Dtype \n",
      "--------------  ----- \n",
      "16382 non-null  object\n",
      "dtypes: object(1)\n",
      "memory usage: 256.0+ KB\n"
     ]
    }
   ],
   "source": [
    "account_df['account_number'].info()"
   ]
  },
  {
   "cell_type": "code",
   "execution_count": 169,
   "metadata": {},
   "outputs": [],
   "source": [
    "# Convert account_number and mobile_number to numeric. Non-numeric values are replaced with NaN\n",
    "\n",
    "account_df['account_number'] = pd.to_numeric(account_df['account_number'], errors='coerce')\n",
    "account_df['mobile_number'] = pd.to_numeric(account_df['mobile_number'], errors='coerce')\n"
   ]
  },
  {
   "cell_type": "code",
   "execution_count": 170,
   "metadata": {},
   "outputs": [],
   "source": [
    "# convert all data of column to some specific type\n",
    "\n",
    "float_cols = account_df.select_dtypes(include=['float64']).columns\n",
    "account_df[float_cols] = account_df[float_cols].astype('float32')\n",
    "int_cols = account_df.select_dtypes(include=['int64']).columns\n",
    "account_df[int_cols] = account_df[int_cols].astype('int32')"
   ]
  },
  {
   "cell_type": "code",
   "execution_count": 171,
   "metadata": {},
   "outputs": [],
   "source": [
    "account_df.fillna({'mobile_number': 0000000000}, inplace=True)\n",
    "account_df.fillna({'account_number': 0000000000}, inplace=True)"
   ]
  },
  {
   "cell_type": "code",
   "execution_count": 174,
   "metadata": {},
   "outputs": [
    {
     "name": "stdout",
     "output_type": "stream",
     "text": [
      "<class 'pandas.core.series.Series'>\n",
      "Index: 16382 entries, 0 to 16382\n",
      "Series name: mobile_number\n",
      "Non-Null Count  Dtype  \n",
      "--------------  -----  \n",
      "16382 non-null  float32\n",
      "dtypes: float32(1)\n",
      "memory usage: 192.0 KB\n"
     ]
    }
   ],
   "source": [
    "account_df['mobile_number'].info()"
   ]
  },
  {
   "cell_type": "code",
   "execution_count": 173,
   "metadata": {},
   "outputs": [
    {
     "data": {
      "text/plain": [
       "0    False\n",
       "1    False\n",
       "2    False\n",
       "3    False\n",
       "4    False\n",
       "5    False\n",
       "6    False\n",
       "7    False\n",
       "8    False\n",
       "9    False\n",
       "Name: account_number, dtype: bool"
      ]
     },
     "execution_count": 173,
     "metadata": {},
     "output_type": "execute_result"
    }
   ],
   "source": [
    "account_df['account_number'].isnull().head(10)"
   ]
  },
  {
   "cell_type": "code",
   "execution_count": 186,
   "metadata": {},
   "outputs": [
    {
     "data": {
      "text/plain": [
       "0"
      ]
     },
     "execution_count": 186,
     "metadata": {},
     "output_type": "execute_result"
    }
   ],
   "source": [
    "account_df.duplicated().sum() # Check if there are any duplicates"
   ]
  },
  {
   "cell_type": "markdown",
   "metadata": {},
   "source": [
    "### After rename and type conversion check the data"
   ]
  },
  {
   "cell_type": "code",
   "execution_count": 187,
   "metadata": {},
   "outputs": [
    {
     "data": {
      "text/html": [
       "<div>\n",
       "<style scoped>\n",
       "    .dataframe tbody tr th:only-of-type {\n",
       "        vertical-align: middle;\n",
       "    }\n",
       "\n",
       "    .dataframe tbody tr th {\n",
       "        vertical-align: top;\n",
       "    }\n",
       "\n",
       "    .dataframe thead th {\n",
       "        text-align: right;\n",
       "    }\n",
       "</style>\n",
       "<table border=\"1\" class=\"dataframe\">\n",
       "  <thead>\n",
       "    <tr style=\"text-align: right;\">\n",
       "      <th></th>\n",
       "      <th>category</th>\n",
       "      <th>count</th>\n",
       "    </tr>\n",
       "  </thead>\n",
       "  <tbody>\n",
       "    <tr>\n",
       "      <th>0</th>\n",
       "      <td>Savings Account(DAM)</td>\n",
       "      <td>3828</td>\n",
       "    </tr>\n",
       "    <tr>\n",
       "      <th>1</th>\n",
       "      <td>NA_CATEGORY</td>\n",
       "      <td>2661</td>\n",
       "    </tr>\n",
       "    <tr>\n",
       "      <th>2</th>\n",
       "      <td>Pewa Bachat Account</td>\n",
       "      <td>2405</td>\n",
       "    </tr>\n",
       "    <tr>\n",
       "      <th>3</th>\n",
       "      <td>YUBA BACHAT KHATA</td>\n",
       "      <td>1967</td>\n",
       "    </tr>\n",
       "    <tr>\n",
       "      <th>4</th>\n",
       "      <td>Saving Account (Salary A/C)</td>\n",
       "      <td>1604</td>\n",
       "    </tr>\n",
       "    <tr>\n",
       "      <th>5</th>\n",
       "      <td>Savings Account (STAFF)</td>\n",
       "      <td>1199</td>\n",
       "    </tr>\n",
       "    <tr>\n",
       "      <th>6</th>\n",
       "      <td>SAMMAN BACHAT</td>\n",
       "      <td>686</td>\n",
       "    </tr>\n",
       "    <tr>\n",
       "      <th>7</th>\n",
       "      <td>Savings Account</td>\n",
       "      <td>644</td>\n",
       "    </tr>\n",
       "    <tr>\n",
       "      <th>8</th>\n",
       "      <td>Current Ac with 100 Bal LAG IND</td>\n",
       "      <td>278</td>\n",
       "    </tr>\n",
       "    <tr>\n",
       "      <th>9</th>\n",
       "      <td>Current Account</td>\n",
       "      <td>212</td>\n",
       "    </tr>\n",
       "    <tr>\n",
       "      <th>10</th>\n",
       "      <td>Current Account with 1000 Min Bal</td>\n",
       "      <td>167</td>\n",
       "    </tr>\n",
       "    <tr>\n",
       "      <th>11</th>\n",
       "      <td>CALL DEPOSIT Tax 15 %</td>\n",
       "      <td>134</td>\n",
       "    </tr>\n",
       "    <tr>\n",
       "      <th>12</th>\n",
       "      <td>Nostro A/c - Local Banks</td>\n",
       "      <td>81</td>\n",
       "    </tr>\n",
       "    <tr>\n",
       "      <th>13</th>\n",
       "      <td>Uchcha Siksha Bachat.</td>\n",
       "      <td>77</td>\n",
       "    </tr>\n",
       "    <tr>\n",
       "      <th>14</th>\n",
       "      <td>Margin on Locker Deposit</td>\n",
       "      <td>66</td>\n",
       "    </tr>\n",
       "    <tr>\n",
       "      <th>15</th>\n",
       "      <td>Nostro A/c - NRB</td>\n",
       "      <td>39</td>\n",
       "    </tr>\n",
       "    <tr>\n",
       "      <th>16</th>\n",
       "      <td>Nostro A/c - Foreign Banks</td>\n",
       "      <td>38</td>\n",
       "    </tr>\n",
       "    <tr>\n",
       "      <th>17</th>\n",
       "      <td>REMITTANCE BACHAT KHATA</td>\n",
       "      <td>37</td>\n",
       "    </tr>\n",
       "    <tr>\n",
       "      <th>18</th>\n",
       "      <td>Royal Savings Account</td>\n",
       "      <td>34</td>\n",
       "    </tr>\n",
       "    <tr>\n",
       "      <th>19</th>\n",
       "      <td>Sajilo Sana Udhami Karja</td>\n",
       "      <td>28</td>\n",
       "    </tr>\n",
       "    <tr>\n",
       "      <th>20</th>\n",
       "      <td>Margin on Guarantee</td>\n",
       "      <td>27</td>\n",
       "    </tr>\n",
       "    <tr>\n",
       "      <th>21</th>\n",
       "      <td>Saving Account (Share Holder)</td>\n",
       "      <td>17</td>\n",
       "    </tr>\n",
       "    <tr>\n",
       "      <th>22</th>\n",
       "      <td>Margin on Goods for Payments</td>\n",
       "      <td>16</td>\n",
       "    </tr>\n",
       "    <tr>\n",
       "      <th>23</th>\n",
       "      <td>Pos Rec / Paybale Accounts</td>\n",
       "      <td>15</td>\n",
       "    </tr>\n",
       "    <tr>\n",
       "      <th>24</th>\n",
       "      <td>Saving Account(Salary Min 0)</td>\n",
       "      <td>13</td>\n",
       "    </tr>\n",
       "    <tr>\n",
       "      <th>25</th>\n",
       "      <td>Atm Rec / Payable Accounts</td>\n",
       "      <td>12</td>\n",
       "    </tr>\n",
       "    <tr>\n",
       "      <th>26</th>\n",
       "      <td>Current Account with 0 Min Balance</td>\n",
       "      <td>12</td>\n",
       "    </tr>\n",
       "    <tr>\n",
       "      <th>27</th>\n",
       "      <td>EDUCATION LOAN MARGIN</td>\n",
       "      <td>10</td>\n",
       "    </tr>\n",
       "    <tr>\n",
       "      <th>28</th>\n",
       "      <td>Overdraft Account - Mortgage Loan</td>\n",
       "      <td>10</td>\n",
       "    </tr>\n",
       "    <tr>\n",
       "      <th>29</th>\n",
       "      <td>Savings Account-15% TAX RATE</td>\n",
       "      <td>9</td>\n",
       "    </tr>\n",
       "    <tr>\n",
       "      <th>30</th>\n",
       "      <td>Overdraft Account - Privelage Loan</td>\n",
       "      <td>8</td>\n",
       "    </tr>\n",
       "    <tr>\n",
       "      <th>31</th>\n",
       "      <td>visa Rec / Paybale Accounts</td>\n",
       "      <td>8</td>\n",
       "    </tr>\n",
       "    <tr>\n",
       "      <th>32</th>\n",
       "      <td>Call Account-0 % TAX RATE</td>\n",
       "      <td>7</td>\n",
       "    </tr>\n",
       "    <tr>\n",
       "      <th>33</th>\n",
       "      <td>MACH SAVING DEPOSIT</td>\n",
       "      <td>7</td>\n",
       "    </tr>\n",
       "    <tr>\n",
       "      <th>34</th>\n",
       "      <td>Saving Account (Disable)</td>\n",
       "      <td>7</td>\n",
       "    </tr>\n",
       "    <tr>\n",
       "      <th>35</th>\n",
       "      <td>Margin on Letter of Credit</td>\n",
       "      <td>6</td>\n",
       "    </tr>\n",
       "    <tr>\n",
       "      <th>36</th>\n",
       "      <td>Margin on Loans &amp; Advances</td>\n",
       "      <td>3</td>\n",
       "    </tr>\n",
       "    <tr>\n",
       "      <th>37</th>\n",
       "      <td>MARGIN OTHERS</td>\n",
       "      <td>2</td>\n",
       "    </tr>\n",
       "    <tr>\n",
       "      <th>38</th>\n",
       "      <td>MBL NRN SAVING DEPOSIT.</td>\n",
       "      <td>1</td>\n",
       "    </tr>\n",
       "    <tr>\n",
       "      <th>39</th>\n",
       "      <td>***Margin Accounts</td>\n",
       "      <td>1</td>\n",
       "    </tr>\n",
       "    <tr>\n",
       "      <th>40</th>\n",
       "      <td>Overdraft Account - Trading</td>\n",
       "      <td>1</td>\n",
       "    </tr>\n",
       "    <tr>\n",
       "      <th>41</th>\n",
       "      <td>MBL PREMIUM SAVING ACCOUNT</td>\n",
       "      <td>1</td>\n",
       "    </tr>\n",
       "    <tr>\n",
       "      <th>42</th>\n",
       "      <td>Other Working Capital Account</td>\n",
       "      <td>1</td>\n",
       "    </tr>\n",
       "    <tr>\n",
       "      <th>43</th>\n",
       "      <td>Current Ac with 7500 Bal LAG CO</td>\n",
       "      <td>1</td>\n",
       "    </tr>\n",
       "    <tr>\n",
       "      <th>44</th>\n",
       "      <td>Yuva tatha sana byabasayi krishi ka</td>\n",
       "      <td>1</td>\n",
       "    </tr>\n",
       "  </tbody>\n",
       "</table>\n",
       "</div>"
      ],
      "text/plain": [
       "                               category  count\n",
       "0                  Savings Account(DAM)   3828\n",
       "1                           NA_CATEGORY   2661\n",
       "2                   Pewa Bachat Account   2405\n",
       "3                     YUBA BACHAT KHATA   1967\n",
       "4           Saving Account (Salary A/C)   1604\n",
       "5               Savings Account (STAFF)   1199\n",
       "6                         SAMMAN BACHAT    686\n",
       "7                       Savings Account    644\n",
       "8       Current Ac with 100 Bal LAG IND    278\n",
       "9                       Current Account    212\n",
       "10    Current Account with 1000 Min Bal    167\n",
       "11                CALL DEPOSIT Tax 15 %    134\n",
       "12             Nostro A/c - Local Banks     81\n",
       "13                Uchcha Siksha Bachat.     77\n",
       "14             Margin on Locker Deposit     66\n",
       "15                     Nostro A/c - NRB     39\n",
       "16           Nostro A/c - Foreign Banks     38\n",
       "17              REMITTANCE BACHAT KHATA     37\n",
       "18                Royal Savings Account     34\n",
       "19             Sajilo Sana Udhami Karja     28\n",
       "20                  Margin on Guarantee     27\n",
       "21        Saving Account (Share Holder)     17\n",
       "22         Margin on Goods for Payments     16\n",
       "23           Pos Rec / Paybale Accounts     15\n",
       "24         Saving Account(Salary Min 0)     13\n",
       "25           Atm Rec / Payable Accounts     12\n",
       "26   Current Account with 0 Min Balance     12\n",
       "27                EDUCATION LOAN MARGIN     10\n",
       "28    Overdraft Account - Mortgage Loan     10\n",
       "29         Savings Account-15% TAX RATE      9\n",
       "30   Overdraft Account - Privelage Loan      8\n",
       "31          visa Rec / Paybale Accounts      8\n",
       "32            Call Account-0 % TAX RATE      7\n",
       "33                  MACH SAVING DEPOSIT      7\n",
       "34             Saving Account (Disable)      7\n",
       "35           Margin on Letter of Credit      6\n",
       "36           Margin on Loans & Advances      3\n",
       "37                        MARGIN OTHERS      2\n",
       "38              MBL NRN SAVING DEPOSIT.      1\n",
       "39                   ***Margin Accounts      1\n",
       "40          Overdraft Account - Trading      1\n",
       "41           MBL PREMIUM SAVING ACCOUNT      1\n",
       "42        Other Working Capital Account      1\n",
       "43      Current Ac with 7500 Bal LAG CO      1\n",
       "44  Yuva tatha sana byabasayi krishi ka      1"
      ]
     },
     "execution_count": 187,
     "metadata": {},
     "output_type": "execute_result"
    }
   ],
   "source": [
    "# Performance upgrade: Category Mapping should be done\n",
    "\n",
    "account_df['category'].value_counts().to_frame('count').reset_index()"
   ]
  },
  {
   "cell_type": "code",
   "execution_count": 188,
   "metadata": {},
   "outputs": [
    {
     "data": {
      "text/plain": [
       "customer_id               0\n",
       "customer_name             0\n",
       "nationality               0\n",
       "residency_status          0\n",
       "industry                  0\n",
       "sector                    0\n",
       "branch                    0\n",
       "account_type              0\n",
       "account_number            0\n",
       "currency_code             0\n",
       "category                  0\n",
       "account_balance           0\n",
       "local_currency_balance    0\n",
       "mobile_banking            0\n",
       "internet_banking          0\n",
       "account_service           0\n",
       "kyc_status                0\n",
       "account_inactive          0\n",
       "mobile_number             0\n",
       "account_open_date         0\n",
       "last_debit_date           0\n",
       "last_credit_date          0\n",
       "date_of_birth             0\n",
       "dtype: int64"
      ]
     },
     "execution_count": 188,
     "metadata": {},
     "output_type": "execute_result"
    }
   ],
   "source": [
    "account_df.isnull().sum()"
   ]
  },
  {
   "cell_type": "code",
   "execution_count": 190,
   "metadata": {},
   "outputs": [
    {
     "data": {
      "text/plain": [
       "0    142204.687500\n",
       "1    -28299.210938\n",
       "2         0.000000\n",
       "3     18971.880859\n",
       "4     26203.029297\n",
       "5      2817.879883\n",
       "6   -300000.000000\n",
       "7     28696.849609\n",
       "8     -4485.819824\n",
       "9     -6999.580078\n",
       "Name: local_currency_balance, dtype: float32"
      ]
     },
     "execution_count": 190,
     "metadata": {},
     "output_type": "execute_result"
    }
   ],
   "source": [
    "account_df['local_currency_balance'].head(10)"
   ]
  },
  {
   "cell_type": "markdown",
   "metadata": {},
   "source": [
    "### Dates"
   ]
  },
  {
   "cell_type": "code",
   "execution_count": 192,
   "metadata": {},
   "outputs": [],
   "source": [
    "# Date related columns\n",
    "dates = ['account_open_date', 'date_of_birth', 'last_debit_date','last_credit_date']"
   ]
  },
  {
   "cell_type": "code",
   "execution_count": 193,
   "metadata": {},
   "outputs": [
    {
     "data": {
      "text/html": [
       "<div>\n",
       "<style scoped>\n",
       "    .dataframe tbody tr th:only-of-type {\n",
       "        vertical-align: middle;\n",
       "    }\n",
       "\n",
       "    .dataframe tbody tr th {\n",
       "        vertical-align: top;\n",
       "    }\n",
       "\n",
       "    .dataframe thead th {\n",
       "        text-align: right;\n",
       "    }\n",
       "</style>\n",
       "<table border=\"1\" class=\"dataframe\">\n",
       "  <thead>\n",
       "    <tr style=\"text-align: right;\">\n",
       "      <th></th>\n",
       "      <th>account_open_date</th>\n",
       "      <th>date_of_birth</th>\n",
       "      <th>last_debit_date</th>\n",
       "      <th>last_credit_date</th>\n",
       "    </tr>\n",
       "  </thead>\n",
       "  <tbody>\n",
       "    <tr>\n",
       "      <th>0</th>\n",
       "      <td>01-Jul-18</td>\n",
       "      <td>03-Apr-52</td>\n",
       "      <td>05-Jan-25</td>\n",
       "      <td>02-Jan-25</td>\n",
       "    </tr>\n",
       "    <tr>\n",
       "      <th>1</th>\n",
       "      <td>13-Sep-17</td>\n",
       "      <td>14-Jul-42</td>\n",
       "      <td>10-Jan-25</td>\n",
       "      <td>16-Apr-19</td>\n",
       "    </tr>\n",
       "    <tr>\n",
       "      <th>2</th>\n",
       "      <td>08-Jul-10</td>\n",
       "      <td>15-Sep-35</td>\n",
       "      <td>08-Jul-10</td>\n",
       "      <td>08-Jul-10</td>\n",
       "    </tr>\n",
       "    <tr>\n",
       "      <th>3</th>\n",
       "      <td>02-Mar-08</td>\n",
       "      <td>29-Jan-36</td>\n",
       "      <td>24-Apr-19</td>\n",
       "      <td>11-Jan-25</td>\n",
       "    </tr>\n",
       "    <tr>\n",
       "      <th>4</th>\n",
       "      <td>25-Sep-17</td>\n",
       "      <td>12-Nov-50</td>\n",
       "      <td>03-Jan-25</td>\n",
       "      <td>05-Jan-25</td>\n",
       "    </tr>\n",
       "    <tr>\n",
       "      <th>5</th>\n",
       "      <td>03-Aug-12</td>\n",
       "      <td>28-Sep-37</td>\n",
       "      <td>02-Jan-25</td>\n",
       "      <td>28-Apr-19</td>\n",
       "    </tr>\n",
       "    <tr>\n",
       "      <th>6</th>\n",
       "      <td>17-Oct-17</td>\n",
       "      <td>05-Oct-45</td>\n",
       "      <td>19-Dec-18</td>\n",
       "      <td>01-Feb-18</td>\n",
       "    </tr>\n",
       "    <tr>\n",
       "      <th>7</th>\n",
       "      <td>14-Feb-18</td>\n",
       "      <td>11-Nov-46</td>\n",
       "      <td>25-Apr-19</td>\n",
       "      <td>25-Mar-19</td>\n",
       "    </tr>\n",
       "    <tr>\n",
       "      <th>8</th>\n",
       "      <td>08-Jul-18</td>\n",
       "      <td>17-Jul-49</td>\n",
       "      <td>10-Jan-25</td>\n",
       "      <td>26-Dec-24</td>\n",
       "    </tr>\n",
       "    <tr>\n",
       "      <th>9</th>\n",
       "      <td>05-Mar-19</td>\n",
       "      <td>07-May-49</td>\n",
       "      <td>08-Jan-25</td>\n",
       "      <td>25-Apr-19</td>\n",
       "    </tr>\n",
       "  </tbody>\n",
       "</table>\n",
       "</div>"
      ],
      "text/plain": [
       "  account_open_date date_of_birth last_debit_date last_credit_date\n",
       "0         01-Jul-18     03-Apr-52       05-Jan-25        02-Jan-25\n",
       "1         13-Sep-17     14-Jul-42       10-Jan-25        16-Apr-19\n",
       "2         08-Jul-10     15-Sep-35       08-Jul-10        08-Jul-10\n",
       "3         02-Mar-08     29-Jan-36       24-Apr-19        11-Jan-25\n",
       "4         25-Sep-17     12-Nov-50       03-Jan-25        05-Jan-25\n",
       "5         03-Aug-12     28-Sep-37       02-Jan-25        28-Apr-19\n",
       "6         17-Oct-17     05-Oct-45       19-Dec-18        01-Feb-18\n",
       "7         14-Feb-18     11-Nov-46       25-Apr-19        25-Mar-19\n",
       "8         08-Jul-18     17-Jul-49       10-Jan-25        26-Dec-24\n",
       "9         05-Mar-19     07-May-49       08-Jan-25        25-Apr-19"
      ]
     },
     "execution_count": 193,
     "metadata": {},
     "output_type": "execute_result"
    }
   ],
   "source": [
    "account_df[dates].head(10)"
   ]
  },
  {
   "cell_type": "code",
   "execution_count": 194,
   "metadata": {},
   "outputs": [
    {
     "data": {
      "text/plain": [
       "account_open_date    0\n",
       "date_of_birth        0\n",
       "last_debit_date      0\n",
       "last_credit_date     0\n",
       "dtype: int64"
      ]
     },
     "execution_count": 194,
     "metadata": {},
     "output_type": "execute_result"
    }
   ],
   "source": [
    "account_df[dates].isnull().sum()"
   ]
  },
  {
   "cell_type": "code",
   "execution_count": 195,
   "metadata": {},
   "outputs": [
    {
     "data": {
      "text/plain": [
       "account_open_date  date_of_birth  last_debit_date  last_credit_date\n",
       "  -   -              -   -          -   -            -   -             196\n",
       "23-May-74            -   -          -   -            -   -              16\n",
       "  -   -              -   -          -   -          02-Jan-25            13\n",
       "                                  02-Jan-25          -   -               9\n",
       "                                  11-Jan-25          -   -               8\n",
       "                                                                      ... \n",
       "11-Dec-09          08-Jun-30      25-Apr-19        12-Apr-19             1\n",
       "                   16-Nov-42      12-Feb-18        16-Jul-17             1\n",
       "11-Dec-11            -   -        06-Nov-11        29-Jan-46             1\n",
       "                                  18-Jun-15        08-Dec-14             1\n",
       "31-Oct-18          29-Oct-43      11-Jan-25        08-Jan-25             1\n",
       "Name: count, Length: 15990, dtype: int64"
      ]
     },
     "execution_count": 195,
     "metadata": {},
     "output_type": "execute_result"
    }
   ],
   "source": [
    "account_df[dates].value_counts()"
   ]
  },
  {
   "cell_type": "code",
   "execution_count": 197,
   "metadata": {},
   "outputs": [],
   "source": [
    "# Convert date columns to datetime\n",
    "\n",
    "account_df[dates] = account_df[dates].apply(pd.to_datetime, format='%d-%b-%y', errors='coerce')"
   ]
  },
  {
   "cell_type": "code",
   "execution_count": 198,
   "metadata": {},
   "outputs": [
    {
     "data": {
      "text/plain": [
       "account_open_date  date_of_birth  last_debit_date  last_credit_date\n",
       "2000-11-29         2018-08-18     2025-01-05       2025-01-09          1\n",
       "2015-09-02         2022-02-09     2019-04-10       2019-04-08          1\n",
       "2015-08-27         2045-08-02     2015-10-14       2015-09-22          1\n",
       "                   2048-10-19     2015-09-08       2015-08-27          1\n",
       "2015-09-01         2038-01-30     2015-09-01       2015-09-01          1\n",
       "                                                                      ..\n",
       "2010-08-13         2044-07-07     2016-03-27       2014-09-18          1\n",
       "                   2006-09-18     2019-04-24       2025-01-05          1\n",
       "                   2001-05-15     2012-09-24       2012-04-30          1\n",
       "2010-08-12         2049-10-10     2019-03-11       2019-03-11          1\n",
       "2019-04-24         2035-01-01     2019-04-24       2019-04-24          1\n",
       "Name: count, Length: 8810, dtype: int64"
      ]
     },
     "execution_count": 198,
     "metadata": {},
     "output_type": "execute_result"
    }
   ],
   "source": [
    "account_df[dates].value_counts()"
   ]
  },
  {
   "cell_type": "code",
   "execution_count": 199,
   "metadata": {},
   "outputs": [
    {
     "data": {
      "text/plain": [
       "account_open_date     433\n",
       "date_of_birth        7470\n",
       "last_debit_date       730\n",
       "last_credit_date     2377\n",
       "dtype: int64"
      ]
     },
     "execution_count": 199,
     "metadata": {},
     "output_type": "execute_result"
    }
   ],
   "source": [
    "account_df[dates].isnull().sum()"
   ]
  },
  {
   "cell_type": "code",
   "execution_count": 201,
   "metadata": {},
   "outputs": [],
   "source": [
    "# fill dates for empty values\n",
    "# CHECK for actual CASE\n",
    "\n",
    "account_df.fillna({'date_of_birth': '1970-01-01'}, inplace=True)\n",
    "account_df.fillna({'account_open_date': '1970-01-01'}, inplace=True)\n",
    "account_df.fillna({'last_debit_date': '1970-01-01'}, inplace=True)\n",
    "account_df.fillna({'last_credit_date': '1970-01-01'}, inplace=True)"
   ]
  },
  {
   "cell_type": "code",
   "execution_count": 203,
   "metadata": {},
   "outputs": [
    {
     "name": "stdout",
     "output_type": "stream",
     "text": [
      "<class 'pandas.core.frame.DataFrame'>\n",
      "Index: 16381 entries, 0 to 16382\n",
      "Data columns (total 4 columns):\n",
      " #   Column             Non-Null Count  Dtype         \n",
      "---  ------             --------------  -----         \n",
      " 0   account_open_date  16381 non-null  datetime64[ns]\n",
      " 1   date_of_birth      16381 non-null  datetime64[ns]\n",
      " 2   last_debit_date    16381 non-null  datetime64[ns]\n",
      " 3   last_credit_date   16381 non-null  datetime64[ns]\n",
      "dtypes: datetime64[ns](4)\n",
      "memory usage: 639.9 KB\n"
     ]
    }
   ],
   "source": [
    "account_df[dates].info()"
   ]
  },
  {
   "cell_type": "code",
   "execution_count": 204,
   "metadata": {},
   "outputs": [
    {
     "name": "stdout",
     "output_type": "stream",
     "text": [
      "<class 'pandas.core.frame.DataFrame'>\n",
      "Index: 16381 entries, 0 to 16382\n",
      "Data columns (total 23 columns):\n",
      " #   Column                  Non-Null Count  Dtype         \n",
      "---  ------                  --------------  -----         \n",
      " 0   customer_id             16381 non-null  int32         \n",
      " 1   customer_name           16381 non-null  object        \n",
      " 2   nationality             16381 non-null  object        \n",
      " 3   residency_status        16381 non-null  object        \n",
      " 4   industry                16381 non-null  object        \n",
      " 5   sector                  16381 non-null  object        \n",
      " 6   branch                  16381 non-null  object        \n",
      " 7   account_type            16381 non-null  object        \n",
      " 8   account_number          16381 non-null  float32       \n",
      " 9   currency_code           16381 non-null  object        \n",
      " 10  category                16381 non-null  object        \n",
      " 11  account_balance         16381 non-null  float32       \n",
      " 12  local_currency_balance  16381 non-null  float32       \n",
      " 13  mobile_banking          16381 non-null  bool          \n",
      " 14  internet_banking        16381 non-null  bool          \n",
      " 15  account_service         16381 non-null  bool          \n",
      " 16  kyc_status              16381 non-null  bool          \n",
      " 17  account_inactive        16381 non-null  bool          \n",
      " 18  mobile_number           16381 non-null  float32       \n",
      " 19  account_open_date       16381 non-null  datetime64[ns]\n",
      " 20  last_debit_date         16381 non-null  datetime64[ns]\n",
      " 21  last_credit_date        16381 non-null  datetime64[ns]\n",
      " 22  date_of_birth           16381 non-null  datetime64[ns]\n",
      "dtypes: bool(5), datetime64[ns](4), float32(4), int32(1), object(9)\n",
      "memory usage: 2.1+ MB\n"
     ]
    }
   ],
   "source": [
    "account_df.info()"
   ]
  },
  {
   "cell_type": "code",
   "execution_count": 208,
   "metadata": {},
   "outputs": [
    {
     "data": {
      "text/plain": [
       "account_open_date\n",
       "2017    3192\n",
       "2019     784\n",
       "2001      19\n",
       "2028       3\n",
       "1985       1\n",
       "2069       1\n",
       "Name: count, dtype: int64"
      ]
     },
     "execution_count": 208,
     "metadata": {},
     "output_type": "execute_result"
    }
   ],
   "source": [
    "# Account Open Date\n",
    "account_df['account_open_date'].dt.year.value_counts()[::10]"
   ]
  },
  {
   "cell_type": "code",
   "execution_count": 209,
   "metadata": {},
   "outputs": [
    {
     "data": {
      "text/plain": [
       "account_open_date\n",
       "1    1785\n",
       "6    1105\n",
       "Name: count, dtype: int64"
      ]
     },
     "execution_count": 209,
     "metadata": {},
     "output_type": "execute_result"
    }
   ],
   "source": [
    "account_df['account_open_date'].dt.month.value_counts()[::10]"
   ]
  },
  {
   "cell_type": "code",
   "execution_count": 211,
   "metadata": {},
   "outputs": [
    {
     "data": {
      "text/plain": [
       "account_open_date\n",
       "22    951\n",
       "17    510\n",
       "28    442\n",
       "31    259\n",
       "Name: count, dtype: int64"
      ]
     },
     "execution_count": 211,
     "metadata": {},
     "output_type": "execute_result"
    }
   ],
   "source": [
    "account_df['account_open_date'].dt.day.value_counts()[::10]"
   ]
  },
  {
   "cell_type": "code",
   "execution_count": 218,
   "metadata": {},
   "outputs": [
    {
     "data": {
      "text/plain": [
       "account_open_date\n",
       "January      1785\n",
       "October      1675\n",
       "November     1659\n",
       "September    1564\n",
       "December     1379\n",
       "July         1277\n",
       "April        1237\n",
       "August       1230\n",
       "March        1197\n",
       "February     1188\n",
       "June         1105\n",
       "May          1085\n",
       "Name: count, dtype: int64"
      ]
     },
     "execution_count": 218,
     "metadata": {},
     "output_type": "execute_result"
    }
   ],
   "source": [
    "account_df['account_open_date'].dt.month_name().value_counts()"
   ]
  },
  {
   "cell_type": "code",
   "execution_count": 219,
   "metadata": {},
   "outputs": [
    {
     "data": {
      "text/plain": [
       "account_open_date\n",
       "Sunday       3518\n",
       "Thursday     3333\n",
       "Monday       2677\n",
       "Wednesday    2347\n",
       "Tuesday      2215\n",
       "Friday       2172\n",
       "Saturday      119\n",
       "Name: count, dtype: int64"
      ]
     },
     "execution_count": 219,
     "metadata": {},
     "output_type": "execute_result"
    }
   ],
   "source": [
    "account_df['account_open_date'].dt.day_name().value_counts()"
   ]
  },
  {
   "cell_type": "markdown",
   "metadata": {},
   "source": [
    "## Personal and Non Personal Accounts\n",
    "## Date: Distribution\n"
   ]
  }
 ],
 "metadata": {
  "kernelspec": {
   "display_name": "bank",
   "language": "python",
   "name": "python3"
  },
  "language_info": {
   "codemirror_mode": {
    "name": "ipython",
    "version": 3
   },
   "file_extension": ".py",
   "mimetype": "text/x-python",
   "name": "python",
   "nbconvert_exporter": "python",
   "pygments_lexer": "ipython3",
   "version": "3.11.9"
  }
 },
 "nbformat": 4,
 "nbformat_minor": 2
}
