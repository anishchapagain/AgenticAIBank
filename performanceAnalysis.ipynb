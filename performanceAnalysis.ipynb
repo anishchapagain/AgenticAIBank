{
 "cells": [
  {
   "cell_type": "code",
   "execution_count": 1,
   "metadata": {},
   "outputs": [],
   "source": [
    "import pandas as pd\n",
    "import numpy as np"
   ]
  },
  {
   "cell_type": "code",
   "execution_count": 2,
   "metadata": {},
   "outputs": [],
   "source": [
    "df_account = pd.read_csv('data/AccountData.csv')  # AccountData\n",
    "# df_statement = pd.read_csv(STATEMENT_PATH)\n",
    "# df = preprocess_data(df_account, df_statement)\n",
    "# print(df.head(3))\n",
    "# print(df.columns)"
   ]
  },
  {
   "cell_type": "code",
   "execution_count": 3,
   "metadata": {},
   "outputs": [
    {
     "data": {
      "text/plain": [
       "Index(['custid', 'name', 'national', 'resident', 'industry', 'sector',\n",
       "       'branch', 'actype', 'accountno', 'ccy', 'category', 'acbal', 'lcyacbal',\n",
       "       'mbservice', 'ibservice', 'acservice', 'kyc', 'inactive', 'mobileno',\n",
       "       'opendate', 'ldrdate', 'lcrdate', 'dob'],\n",
       "      dtype='object')"
      ]
     },
     "execution_count": 3,
     "metadata": {},
     "output_type": "execute_result"
    }
   ],
   "source": [
    "df_account.columns"
   ]
  },
  {
   "cell_type": "code",
   "execution_count": 4,
   "metadata": {},
   "outputs": [
    {
     "name": "stdout",
     "output_type": "stream",
     "text": [
      "<class 'pandas.core.frame.DataFrame'>\n",
      "RangeIndex: 16383 entries, 0 to 16382\n",
      "Data columns (total 23 columns):\n",
      " #   Column     Non-Null Count  Dtype  \n",
      "---  ------     --------------  -----  \n",
      " 0   custid     16383 non-null  int64  \n",
      " 1   name       16383 non-null  object \n",
      " 2   national   16383 non-null  object \n",
      " 3   resident   16383 non-null  object \n",
      " 4   industry   16383 non-null  object \n",
      " 5   sector     16383 non-null  object \n",
      " 6   branch     16383 non-null  int64  \n",
      " 7   actype     16383 non-null  int64  \n",
      " 8   accountno  16383 non-null  object \n",
      " 9   ccy        16383 non-null  object \n",
      " 10  category   16383 non-null  object \n",
      " 11  acbal      16383 non-null  float64\n",
      " 12  lcyacbal   16383 non-null  float64\n",
      " 13  mbservice  16383 non-null  bool   \n",
      " 14  ibservice  16383 non-null  bool   \n",
      " 15  acservice  16383 non-null  bool   \n",
      " 16  kyc        16383 non-null  bool   \n",
      " 17  inactive   16383 non-null  bool   \n",
      " 18  mobileno   16280 non-null  object \n",
      " 19  opendate   16383 non-null  object \n",
      " 20  ldrdate    16383 non-null  object \n",
      " 21  lcrdate    16383 non-null  object \n",
      " 22  dob        16383 non-null  object \n",
      "dtypes: bool(5), float64(2), int64(3), object(13)\n",
      "memory usage: 2.3+ MB\n"
     ]
    }
   ],
   "source": [
    "df_account.info()"
   ]
  },
  {
   "cell_type": "code",
   "execution_count": 5,
   "metadata": {},
   "outputs": [
    {
     "data": {
      "text/plain": [
       "custid         0\n",
       "name           0\n",
       "national       0\n",
       "resident       0\n",
       "industry       0\n",
       "sector         0\n",
       "branch         0\n",
       "actype         0\n",
       "accountno      0\n",
       "ccy            0\n",
       "category       0\n",
       "acbal          0\n",
       "lcyacbal       0\n",
       "mbservice      0\n",
       "ibservice      0\n",
       "acservice      0\n",
       "kyc            0\n",
       "inactive       0\n",
       "mobileno     103\n",
       "opendate       0\n",
       "ldrdate        0\n",
       "lcrdate        0\n",
       "dob            0\n",
       "dtype: int64"
      ]
     },
     "execution_count": 5,
     "metadata": {},
     "output_type": "execute_result"
    }
   ],
   "source": [
    "df_account.isnull().sum()"
   ]
  },
  {
   "cell_type": "code",
   "execution_count": 7,
   "metadata": {},
   "outputs": [],
   "source": [
    "df_account['mobileno'] = df_account['mobileno'].fillna('Unknown')"
   ]
  },
  {
   "cell_type": "code",
   "execution_count": 8,
   "metadata": {},
   "outputs": [
    {
     "data": {
      "text/plain": [
       "0"
      ]
     },
     "execution_count": 8,
     "metadata": {},
     "output_type": "execute_result"
    }
   ],
   "source": [
    "df_account['mobileno'].isnull().sum()"
   ]
  },
  {
   "cell_type": "code",
   "execution_count": 9,
   "metadata": {},
   "outputs": [
    {
     "data": {
      "text/plain": [
       "dob\n",
       "  -   -      7472\n",
       "01-Jan-45       9\n",
       "15-Jun-38       7\n",
       "01-Jan-16       7\n",
       "15-Aug-36       7\n",
       "             ... \n",
       "07-Jul-34       1\n",
       "09-Mar-49       1\n",
       "16-Oct-53       1\n",
       "16-Feb-44       1\n",
       "01-Nov-24       1\n",
       "Name: count, Length: 6282, dtype: int64"
      ]
     },
     "execution_count": 9,
     "metadata": {},
     "output_type": "execute_result"
    }
   ],
   "source": [
    "df_account['dob'].value_counts()"
   ]
  },
  {
   "cell_type": "code",
   "execution_count": 10,
   "metadata": {},
   "outputs": [],
   "source": [
    "# Check personal accounts with missing DOB\n",
    "missing_dob_personal = df_account[(df_account['dob'].isna()) | (df_account['dob'] == '  -   -')]"
   ]
  },
  {
   "cell_type": "code",
   "execution_count": 11,
   "metadata": {},
   "outputs": [
    {
     "data": {
      "text/html": [
       "<div>\n",
       "<style scoped>\n",
       "    .dataframe tbody tr th:only-of-type {\n",
       "        vertical-align: middle;\n",
       "    }\n",
       "\n",
       "    .dataframe tbody tr th {\n",
       "        vertical-align: top;\n",
       "    }\n",
       "\n",
       "    .dataframe thead th {\n",
       "        text-align: right;\n",
       "    }\n",
       "</style>\n",
       "<table border=\"1\" class=\"dataframe\">\n",
       "  <thead>\n",
       "    <tr style=\"text-align: right;\">\n",
       "      <th></th>\n",
       "      <th>custid</th>\n",
       "      <th>name</th>\n",
       "      <th>national</th>\n",
       "      <th>resident</th>\n",
       "      <th>industry</th>\n",
       "      <th>sector</th>\n",
       "      <th>branch</th>\n",
       "      <th>actype</th>\n",
       "      <th>accountno</th>\n",
       "      <th>ccy</th>\n",
       "      <th>...</th>\n",
       "      <th>mbservice</th>\n",
       "      <th>ibservice</th>\n",
       "      <th>acservice</th>\n",
       "      <th>kyc</th>\n",
       "      <th>inactive</th>\n",
       "      <th>mobileno</th>\n",
       "      <th>opendate</th>\n",
       "      <th>ldrdate</th>\n",
       "      <th>lcrdate</th>\n",
       "      <th>dob</th>\n",
       "    </tr>\n",
       "  </thead>\n",
       "  <tbody>\n",
       "    <tr>\n",
       "      <th>10</th>\n",
       "      <td>295</td>\n",
       "      <td>NEPAL CREDIT AND COMMERCE BANK</td>\n",
       "      <td>NP</td>\n",
       "      <td>NP</td>\n",
       "      <td>4005</td>\n",
       "      <td>1100</td>\n",
       "      <td>1</td>\n",
       "      <td>45</td>\n",
       "      <td>014500002955</td>\n",
       "      <td>NPR</td>\n",
       "      <td>...</td>\n",
       "      <td>False</td>\n",
       "      <td>False</td>\n",
       "      <td>True</td>\n",
       "      <td>False</td>\n",
       "      <td>False</td>\n",
       "      <td>Unknown</td>\n",
       "      <td>-   -</td>\n",
       "      <td>09-Jan-25</td>\n",
       "      <td>-   -</td>\n",
       "      <td>-   -</td>\n",
       "    </tr>\n",
       "    <tr>\n",
       "      <th>19</th>\n",
       "      <td>284</td>\n",
       "      <td>NEPAL RASTRA BANK</td>\n",
       "      <td>NP</td>\n",
       "      <td>NP</td>\n",
       "      <td>4000</td>\n",
       "      <td>3000</td>\n",
       "      <td>1</td>\n",
       "      <td>45</td>\n",
       "      <td>014500002843</td>\n",
       "      <td>NPR</td>\n",
       "      <td>...</td>\n",
       "      <td>False</td>\n",
       "      <td>False</td>\n",
       "      <td>True</td>\n",
       "      <td>False</td>\n",
       "      <td>False</td>\n",
       "      <td>Unknown</td>\n",
       "      <td>-   -</td>\n",
       "      <td>05-Jan-25</td>\n",
       "      <td>-   -</td>\n",
       "      <td>-   -</td>\n",
       "    </tr>\n",
       "    <tr>\n",
       "      <th>30</th>\n",
       "      <td>295</td>\n",
       "      <td>NEPAL CREDIT AND COMMERCE BANK</td>\n",
       "      <td>NP</td>\n",
       "      <td>NP</td>\n",
       "      <td>4005</td>\n",
       "      <td>1100</td>\n",
       "      <td>1</td>\n",
       "      <td>45</td>\n",
       "      <td>014500002958</td>\n",
       "      <td>NPR</td>\n",
       "      <td>...</td>\n",
       "      <td>False</td>\n",
       "      <td>False</td>\n",
       "      <td>False</td>\n",
       "      <td>True</td>\n",
       "      <td>False</td>\n",
       "      <td>20020417</td>\n",
       "      <td>20-Aug-02</td>\n",
       "      <td>05-Jan-25</td>\n",
       "      <td>-   -</td>\n",
       "      <td>-   -</td>\n",
       "    </tr>\n",
       "    <tr>\n",
       "      <th>33</th>\n",
       "      <td>147625</td>\n",
       "      <td>AMAR MAHARJAN</td>\n",
       "      <td>NP</td>\n",
       "      <td>NP</td>\n",
       "      <td>9009</td>\n",
       "      <td>1500</td>\n",
       "      <td>1</td>\n",
       "      <td>18</td>\n",
       "      <td>011801476256</td>\n",
       "      <td>NPR</td>\n",
       "      <td>...</td>\n",
       "      <td>True</td>\n",
       "      <td>False</td>\n",
       "      <td>True</td>\n",
       "      <td>True</td>\n",
       "      <td>False</td>\n",
       "      <td>9841253331</td>\n",
       "      <td>25-Jan-18</td>\n",
       "      <td>03-Jan-25</td>\n",
       "      <td>02-Jan-25</td>\n",
       "      <td>-   -</td>\n",
       "    </tr>\n",
       "    <tr>\n",
       "      <th>38</th>\n",
       "      <td>147731</td>\n",
       "      <td>NURSING ASSOCIATION OF NEPAL</td>\n",
       "      <td>NP</td>\n",
       "      <td>NP</td>\n",
       "      <td>9010</td>\n",
       "      <td>9010</td>\n",
       "      <td>1</td>\n",
       "      <td>1</td>\n",
       "      <td>011 01477314</td>\n",
       "      <td>NPR</td>\n",
       "      <td>...</td>\n",
       "      <td>False</td>\n",
       "      <td>False</td>\n",
       "      <td>False</td>\n",
       "      <td>True</td>\n",
       "      <td>False</td>\n",
       "      <td>9841453977</td>\n",
       "      <td>23-Jul-17</td>\n",
       "      <td>09-Jan-25</td>\n",
       "      <td>02-Feb-62</td>\n",
       "      <td>-   -</td>\n",
       "    </tr>\n",
       "    <tr>\n",
       "      <th>...</th>\n",
       "      <td>...</td>\n",
       "      <td>...</td>\n",
       "      <td>...</td>\n",
       "      <td>...</td>\n",
       "      <td>...</td>\n",
       "      <td>...</td>\n",
       "      <td>...</td>\n",
       "      <td>...</td>\n",
       "      <td>...</td>\n",
       "      <td>...</td>\n",
       "      <td>...</td>\n",
       "      <td>...</td>\n",
       "      <td>...</td>\n",
       "      <td>...</td>\n",
       "      <td>...</td>\n",
       "      <td>...</td>\n",
       "      <td>...</td>\n",
       "      <td>...</td>\n",
       "      <td>...</td>\n",
       "      <td>...</td>\n",
       "      <td>...</td>\n",
       "    </tr>\n",
       "    <tr>\n",
       "      <th>16371</th>\n",
       "      <td>587392</td>\n",
       "      <td>DANU MAYA KUMAL</td>\n",
       "      <td>NP</td>\n",
       "      <td>NP</td>\n",
       "      <td>9008</td>\n",
       "      <td>1500</td>\n",
       "      <td>12</td>\n",
       "      <td>22</td>\n",
       "      <td>122205873927</td>\n",
       "      <td>NPR</td>\n",
       "      <td>...</td>\n",
       "      <td>False</td>\n",
       "      <td>False</td>\n",
       "      <td>False</td>\n",
       "      <td>True</td>\n",
       "      <td>False</td>\n",
       "      <td>9816640541</td>\n",
       "      <td>23-Oct-17</td>\n",
       "      <td>03-Feb-19</td>\n",
       "      <td>24-Nov-24</td>\n",
       "      <td>-   -</td>\n",
       "    </tr>\n",
       "    <tr>\n",
       "      <th>16372</th>\n",
       "      <td>62339</td>\n",
       "      <td>BIMAL CHANDRA POUDEL</td>\n",
       "      <td>NP</td>\n",
       "      <td>NP</td>\n",
       "      <td>9008</td>\n",
       "      <td>1500</td>\n",
       "      <td>12</td>\n",
       "      <td>40</td>\n",
       "      <td>124000623394</td>\n",
       "      <td>NPR</td>\n",
       "      <td>...</td>\n",
       "      <td>False</td>\n",
       "      <td>False</td>\n",
       "      <td>False</td>\n",
       "      <td>True</td>\n",
       "      <td>True</td>\n",
       "      <td>20080127</td>\n",
       "      <td>03-Jul-15</td>\n",
       "      <td>14-Jun-15</td>\n",
       "      <td>25-Aug-45</td>\n",
       "      <td>-   -</td>\n",
       "    </tr>\n",
       "    <tr>\n",
       "      <th>16374</th>\n",
       "      <td>63958</td>\n",
       "      <td>MAHESH GAUTAM</td>\n",
       "      <td>NP</td>\n",
       "      <td>NP</td>\n",
       "      <td>9008</td>\n",
       "      <td>1500</td>\n",
       "      <td>12</td>\n",
       "      <td>40</td>\n",
       "      <td>124000639589</td>\n",
       "      <td>NPR</td>\n",
       "      <td>...</td>\n",
       "      <td>False</td>\n",
       "      <td>False</td>\n",
       "      <td>False</td>\n",
       "      <td>True</td>\n",
       "      <td>False</td>\n",
       "      <td>20080907</td>\n",
       "      <td>10-Sep-09</td>\n",
       "      <td>01-Sep-09</td>\n",
       "      <td>16-Jan-40</td>\n",
       "      <td>-   -</td>\n",
       "    </tr>\n",
       "    <tr>\n",
       "      <th>16375</th>\n",
       "      <td>242543</td>\n",
       "      <td>BHAGAWATI THAPA CHHETRI</td>\n",
       "      <td>NP</td>\n",
       "      <td>NP</td>\n",
       "      <td>9008</td>\n",
       "      <td>1500</td>\n",
       "      <td>12</td>\n",
       "      <td>23</td>\n",
       "      <td>122302425435</td>\n",
       "      <td>NPR</td>\n",
       "      <td>...</td>\n",
       "      <td>False</td>\n",
       "      <td>False</td>\n",
       "      <td>True</td>\n",
       "      <td>False</td>\n",
       "      <td>True</td>\n",
       "      <td>9846131391</td>\n",
       "      <td>05-Mar-12</td>\n",
       "      <td>05-Mar-12</td>\n",
       "      <td>15-Feb-39</td>\n",
       "      <td>-   -</td>\n",
       "    </tr>\n",
       "    <tr>\n",
       "      <th>16380</th>\n",
       "      <td>182566</td>\n",
       "      <td>MOTISARA KUMAL</td>\n",
       "      <td>NP</td>\n",
       "      <td>NP</td>\n",
       "      <td>9008</td>\n",
       "      <td>1500</td>\n",
       "      <td>12</td>\n",
       "      <td>23</td>\n",
       "      <td>122301825665</td>\n",
       "      <td>NPR</td>\n",
       "      <td>...</td>\n",
       "      <td>False</td>\n",
       "      <td>False</td>\n",
       "      <td>False</td>\n",
       "      <td>True</td>\n",
       "      <td>False</td>\n",
       "      <td>20100728</td>\n",
       "      <td>03-Aug-11</td>\n",
       "      <td>06-Sep-10</td>\n",
       "      <td>13-May-40</td>\n",
       "      <td>-   -</td>\n",
       "    </tr>\n",
       "  </tbody>\n",
       "</table>\n",
       "<p>7472 rows × 23 columns</p>\n",
       "</div>"
      ],
      "text/plain": [
       "       custid                            name national resident industry  \\\n",
       "10        295  NEPAL CREDIT AND COMMERCE BANK       NP       NP     4005   \n",
       "19        284               NEPAL RASTRA BANK       NP       NP     4000   \n",
       "30        295  NEPAL CREDIT AND COMMERCE BANK       NP       NP     4005   \n",
       "33     147625                   AMAR MAHARJAN       NP       NP     9009   \n",
       "38     147731    NURSING ASSOCIATION OF NEPAL       NP       NP     9010   \n",
       "...       ...                             ...      ...      ...      ...   \n",
       "16371  587392                 DANU MAYA KUMAL       NP       NP     9008   \n",
       "16372   62339            BIMAL CHANDRA POUDEL       NP       NP     9008   \n",
       "16374   63958                   MAHESH GAUTAM       NP       NP     9008   \n",
       "16375  242543         BHAGAWATI THAPA CHHETRI       NP       NP     9008   \n",
       "16380  182566                  MOTISARA KUMAL       NP       NP     9008   \n",
       "\n",
       "      sector  branch  actype     accountno  ccy  ... mbservice  ibservice  \\\n",
       "10      1100       1      45  014500002955  NPR  ...     False      False   \n",
       "19      3000       1      45  014500002843  NPR  ...     False      False   \n",
       "30      1100       1      45  014500002958  NPR  ...     False      False   \n",
       "33      1500       1      18  011801476256  NPR  ...      True      False   \n",
       "38      9010       1       1  011 01477314  NPR  ...     False      False   \n",
       "...      ...     ...     ...           ...  ...  ...       ...        ...   \n",
       "16371   1500      12      22  122205873927  NPR  ...     False      False   \n",
       "16372   1500      12      40  124000623394  NPR  ...     False      False   \n",
       "16374   1500      12      40  124000639589  NPR  ...     False      False   \n",
       "16375   1500      12      23  122302425435  NPR  ...     False      False   \n",
       "16380   1500      12      23  122301825665  NPR  ...     False      False   \n",
       "\n",
       "       acservice    kyc  inactive    mobileno   opendate    ldrdate  \\\n",
       "10          True  False     False     Unknown      -   -  09-Jan-25   \n",
       "19          True  False     False     Unknown      -   -  05-Jan-25   \n",
       "30         False   True     False    20020417  20-Aug-02  05-Jan-25   \n",
       "33          True   True     False  9841253331  25-Jan-18  03-Jan-25   \n",
       "38         False   True     False  9841453977  23-Jul-17  09-Jan-25   \n",
       "...          ...    ...       ...         ...        ...        ...   \n",
       "16371      False   True     False  9816640541  23-Oct-17  03-Feb-19   \n",
       "16372      False   True      True    20080127  03-Jul-15  14-Jun-15   \n",
       "16374      False   True     False    20080907  10-Sep-09  01-Sep-09   \n",
       "16375       True  False      True  9846131391  05-Mar-12  05-Mar-12   \n",
       "16380      False   True     False    20100728  03-Aug-11  06-Sep-10   \n",
       "\n",
       "         lcrdate      dob  \n",
       "10         -   -    -   -  \n",
       "19         -   -    -   -  \n",
       "30         -   -    -   -  \n",
       "33     02-Jan-25    -   -  \n",
       "38     02-Feb-62    -   -  \n",
       "...          ...      ...  \n",
       "16371  24-Nov-24    -   -  \n",
       "16372  25-Aug-45    -   -  \n",
       "16374  16-Jan-40    -   -  \n",
       "16375  15-Feb-39    -   -  \n",
       "16380  13-May-40    -   -  \n",
       "\n",
       "[7472 rows x 23 columns]"
      ]
     },
     "execution_count": 11,
     "metadata": {},
     "output_type": "execute_result"
    }
   ],
   "source": [
    "missing_dob_personal"
   ]
  },
  {
   "cell_type": "code",
   "execution_count": 12,
   "metadata": {},
   "outputs": [
    {
     "data": {
      "text/plain": [
       "sector\n",
       "1500    6938\n",
       "1100      98\n",
       "1450      73\n",
       "1000      63\n",
       "1300      63\n",
       "9010      49\n",
       "3000      42\n",
       "1550      35\n",
       "1050      26\n",
       "1350      24\n",
       "4250      14\n",
       "1400      10\n",
       "9000      10\n",
       "1200       9\n",
       "4005       4\n",
       "2000       3\n",
       "1150       3\n",
       "2010       2\n",
       "9005       2\n",
       "1250       1\n",
       "4055       1\n",
       "9008       1\n",
       "NP         1\n",
       "Name: count, dtype: int64"
      ]
     },
     "execution_count": 12,
     "metadata": {},
     "output_type": "execute_result"
    },
    {
     "ename": "",
     "evalue": "",
     "output_type": "error",
     "traceback": [
      "\u001b[1;31mThe Kernel crashed while executing code in the current cell or a previous cell. \n",
      "\u001b[1;31mPlease review the code in the cell(s) to identify a possible cause of the failure. \n",
      "\u001b[1;31mClick <a href='https://aka.ms/vscodeJupyterKernelCrash'>here</a> for more info. \n",
      "\u001b[1;31mView Jupyter <a href='command:jupyter.viewOutput'>log</a> for further details."
     ]
    }
   ],
   "source": [
    "missing_dob_personal['sector'].value_counts()"
   ]
  },
  {
   "cell_type": "code",
   "execution_count": null,
   "metadata": {},
   "outputs": [],
   "source": [
    "\n",
    "    \n",
    "    # Check non-personal accounts with DOB\n",
    "    invalid_dob_non_personal = non_personal_df[\n",
    "        (~non_personal_df['dob'].isna()) & \n",
    "        (non_personal_df['dob'] != '  -   -')\n",
    "    ]"
   ]
  },
  {
   "cell_type": "code",
   "execution_count": 7,
   "metadata": {},
   "outputs": [],
   "source": [
    "def column_mapping(file_path, old_column, new_column):\n",
    "    cols = pd.read_json(file_path)\n",
    "    mapping = dict(\n",
    "        zip(cols[old_column], cols[new_column])\n",
    "    )\n",
    "    return mapping"
   ]
  },
  {
   "cell_type": "code",
   "execution_count": 8,
   "metadata": {},
   "outputs": [],
   "source": [
    "branch_code_to_name = column_mapping('data/Branch.json','Code','Desc')"
   ]
  },
  {
   "cell_type": "code",
   "execution_count": null,
   "metadata": {},
   "outputs": [],
   "source": [
    "df_account['bank_branch_account'] = pd.to_numeric(df_account['branch'], errors='coerce')"
   ]
  },
  {
   "cell_type": "code",
   "execution_count": 12,
   "metadata": {},
   "outputs": [],
   "source": [
    "df_account[\"bank_branch_account\"] = df_account[\"bank_branch_account\"].map(branch_code_to_name).fillna('BBRANCH')"
   ]
  },
  {
   "cell_type": "code",
   "execution_count": 13,
   "metadata": {},
   "outputs": [
    {
     "data": {
      "text/plain": [
       "bank_branch_account\n",
       "DAMAULI BRANCH        14414\n",
       "CORPORATE OFFICE       1953\n",
       "BBRANCH                   8\n",
       "BHAIRAHAWA BRANCH         4\n",
       "POKHARA BRANCH            2\n",
       "MAHENDRAPUL BRANCH        2\n",
       "Name: count, dtype: int64"
      ]
     },
     "execution_count": 13,
     "metadata": {},
     "output_type": "execute_result"
    }
   ],
   "source": [
    "df_account['bank_branch_account'].value_counts()"
   ]
  },
  {
   "cell_type": "code",
   "execution_count": 15,
   "metadata": {},
   "outputs": [],
   "source": [
    "df_statement = pd.read_csv('data/StmtData.csv')"
   ]
  },
  {
   "cell_type": "code",
   "execution_count": 16,
   "metadata": {},
   "outputs": [
    {
     "data": {
      "text/plain": [
       "Index(['stmtid', 'accountno', 'branch', 'custid', 'txncode', 'txnrefno',\n",
       "       'narration', 'txndate', 'valuedate', 'ccy', 'amount', 'lcyamount',\n",
       "       'excrate', 'ourref', 'systemid', 'override', 'inuser', 'indatetime',\n",
       "       'authuser', 'audatetime', 'userbranch'],\n",
       "      dtype='object')"
      ]
     },
     "execution_count": 16,
     "metadata": {},
     "output_type": "execute_result"
    }
   ],
   "source": [
    "df_statement.columns"
   ]
  },
  {
   "cell_type": "code",
   "execution_count": 22,
   "metadata": {},
   "outputs": [
    {
     "data": {
      "text/plain": [
       "branch\n",
       "1     5048\n",
       "12    2818\n",
       "90      10\n",
       "11       6\n",
       "Name: count, dtype: int64"
      ]
     },
     "execution_count": 22,
     "metadata": {},
     "output_type": "execute_result"
    }
   ],
   "source": [
    "df_statement['branch'].value_counts()"
   ]
  },
  {
   "cell_type": "code",
   "execution_count": 19,
   "metadata": {},
   "outputs": [
    {
     "data": {
      "text/plain": [
       "userbranch\n",
       "BNK    7882\n",
       "Name: count, dtype: int64"
      ]
     },
     "execution_count": 19,
     "metadata": {},
     "output_type": "execute_result"
    }
   ],
   "source": [
    "df_statement['userbranch'].value_counts()"
   ]
  },
  {
   "cell_type": "code",
   "execution_count": 21,
   "metadata": {},
   "outputs": [],
   "source": [
    "df_statement['bank_branch_account'] = pd.to_numeric(df_statement['branch'], errors='coerce')\n",
    "df_statement[\"bank_branch_account\"] = df_statement[\"bank_branch_account\"].map(branch_code_to_name).fillna('BBRANCH')"
   ]
  },
  {
   "cell_type": "code",
   "execution_count": 23,
   "metadata": {},
   "outputs": [
    {
     "data": {
      "text/plain": [
       "bank_branch_account\n",
       "CORPORATE OFFICE    5048\n",
       "DAMAULI BRANCH      2818\n",
       "BBRANCH               10\n",
       "POKHARA BRANCH         6\n",
       "Name: count, dtype: int64"
      ]
     },
     "execution_count": 23,
     "metadata": {},
     "output_type": "execute_result"
    }
   ],
   "source": [
    "df_statement['bank_branch_account'].value_counts()"
   ]
  },
  {
   "cell_type": "code",
   "execution_count": 25,
   "metadata": {},
   "outputs": [
    {
     "data": {
      "text/html": [
       "<div>\n",
       "<style scoped>\n",
       "    .dataframe tbody tr th:only-of-type {\n",
       "        vertical-align: middle;\n",
       "    }\n",
       "\n",
       "    .dataframe tbody tr th {\n",
       "        vertical-align: top;\n",
       "    }\n",
       "\n",
       "    .dataframe thead th {\n",
       "        text-align: right;\n",
       "    }\n",
       "</style>\n",
       "<table border=\"1\" class=\"dataframe\">\n",
       "  <thead>\n",
       "    <tr style=\"text-align: right;\">\n",
       "      <th></th>\n",
       "      <th>custid</th>\n",
       "      <th>name</th>\n",
       "      <th>national</th>\n",
       "      <th>resident</th>\n",
       "      <th>industry</th>\n",
       "      <th>sector</th>\n",
       "      <th>branch</th>\n",
       "      <th>actype</th>\n",
       "      <th>accountno</th>\n",
       "      <th>ccy</th>\n",
       "      <th>...</th>\n",
       "      <th>ibservice</th>\n",
       "      <th>acservice</th>\n",
       "      <th>kyc</th>\n",
       "      <th>inactive</th>\n",
       "      <th>mobileno</th>\n",
       "      <th>opendate</th>\n",
       "      <th>ldrdate</th>\n",
       "      <th>lcrdate</th>\n",
       "      <th>dob</th>\n",
       "      <th>bank_branch_account</th>\n",
       "    </tr>\n",
       "  </thead>\n",
       "  <tbody>\n",
       "    <tr>\n",
       "      <th>0</th>\n",
       "      <td>444500</td>\n",
       "      <td>DEEPAK DHAMI</td>\n",
       "      <td>NP</td>\n",
       "      <td>NP</td>\n",
       "      <td>9009</td>\n",
       "      <td>1500</td>\n",
       "      <td>1</td>\n",
       "      <td>21</td>\n",
       "      <td>012104445004</td>\n",
       "      <td>NPR</td>\n",
       "      <td>...</td>\n",
       "      <td>True</td>\n",
       "      <td>True</td>\n",
       "      <td>True</td>\n",
       "      <td>False</td>\n",
       "      <td>9848627268</td>\n",
       "      <td>01-Jul-18</td>\n",
       "      <td>05-Jan-25</td>\n",
       "      <td>02-Jan-25</td>\n",
       "      <td>03-Apr-52</td>\n",
       "      <td>CORPORATE OFFICE</td>\n",
       "    </tr>\n",
       "    <tr>\n",
       "      <th>1</th>\n",
       "      <td>100199</td>\n",
       "      <td>UPENDRA P. SUBEDI</td>\n",
       "      <td>NP</td>\n",
       "      <td>NP</td>\n",
       "      <td>9009</td>\n",
       "      <td>1500</td>\n",
       "      <td>1</td>\n",
       "      <td>18</td>\n",
       "      <td>011801001998</td>\n",
       "      <td>NPR</td>\n",
       "      <td>...</td>\n",
       "      <td>True</td>\n",
       "      <td>True</td>\n",
       "      <td>True</td>\n",
       "      <td>False</td>\n",
       "      <td>9841464720</td>\n",
       "      <td>13-Sep-17</td>\n",
       "      <td>10-Jan-25</td>\n",
       "      <td>16-Apr-19</td>\n",
       "      <td>14-Jul-42</td>\n",
       "      <td>CORPORATE OFFICE</td>\n",
       "    </tr>\n",
       "    <tr>\n",
       "      <th>2</th>\n",
       "      <td>67038</td>\n",
       "      <td>SIDDHI BHANDARI</td>\n",
       "      <td>NP</td>\n",
       "      <td>NP</td>\n",
       "      <td>9009</td>\n",
       "      <td>1500</td>\n",
       "      <td>1</td>\n",
       "      <td>99</td>\n",
       "      <td>019900670380</td>\n",
       "      <td>NPR</td>\n",
       "      <td>...</td>\n",
       "      <td>True</td>\n",
       "      <td>False</td>\n",
       "      <td>True</td>\n",
       "      <td>True</td>\n",
       "      <td>9841369614</td>\n",
       "      <td>08-Jul-10</td>\n",
       "      <td>08-Jul-10</td>\n",
       "      <td>08-Jul-10</td>\n",
       "      <td>15-Sep-35</td>\n",
       "      <td>CORPORATE OFFICE</td>\n",
       "    </tr>\n",
       "    <tr>\n",
       "      <th>3</th>\n",
       "      <td>67441</td>\n",
       "      <td>SHOBHA SHRESTHA</td>\n",
       "      <td>NP</td>\n",
       "      <td>NP</td>\n",
       "      <td>9009</td>\n",
       "      <td>1500</td>\n",
       "      <td>1</td>\n",
       "      <td>21</td>\n",
       "      <td>012100674414</td>\n",
       "      <td>NPR</td>\n",
       "      <td>...</td>\n",
       "      <td>False</td>\n",
       "      <td>False</td>\n",
       "      <td>True</td>\n",
       "      <td>False</td>\n",
       "      <td>9856041044</td>\n",
       "      <td>02-Mar-08</td>\n",
       "      <td>24-Apr-19</td>\n",
       "      <td>11-Jan-25</td>\n",
       "      <td>29-Jan-36</td>\n",
       "      <td>CORPORATE OFFICE</td>\n",
       "    </tr>\n",
       "    <tr>\n",
       "      <th>4</th>\n",
       "      <td>444277</td>\n",
       "      <td>APURVA RAUNIYAR</td>\n",
       "      <td>NP</td>\n",
       "      <td>NP</td>\n",
       "      <td>9009</td>\n",
       "      <td>1500</td>\n",
       "      <td>1</td>\n",
       "      <td>21</td>\n",
       "      <td>012104442772</td>\n",
       "      <td>NPR</td>\n",
       "      <td>...</td>\n",
       "      <td>True</td>\n",
       "      <td>True</td>\n",
       "      <td>True</td>\n",
       "      <td>False</td>\n",
       "      <td>9823452053</td>\n",
       "      <td>25-Sep-17</td>\n",
       "      <td>03-Jan-25</td>\n",
       "      <td>05-Jan-25</td>\n",
       "      <td>12-Nov-50</td>\n",
       "      <td>CORPORATE OFFICE</td>\n",
       "    </tr>\n",
       "    <tr>\n",
       "      <th>5</th>\n",
       "      <td>403653</td>\n",
       "      <td>DIBYA RAJ POKHAREL</td>\n",
       "      <td>NP</td>\n",
       "      <td>NP</td>\n",
       "      <td>9009</td>\n",
       "      <td>1500</td>\n",
       "      <td>1</td>\n",
       "      <td>21</td>\n",
       "      <td>012104036537</td>\n",
       "      <td>NPR</td>\n",
       "      <td>...</td>\n",
       "      <td>False</td>\n",
       "      <td>True</td>\n",
       "      <td>True</td>\n",
       "      <td>False</td>\n",
       "      <td>9842072607</td>\n",
       "      <td>03-Aug-12</td>\n",
       "      <td>02-Jan-25</td>\n",
       "      <td>28-Apr-19</td>\n",
       "      <td>28-Sep-37</td>\n",
       "      <td>CORPORATE OFFICE</td>\n",
       "    </tr>\n",
       "    <tr>\n",
       "      <th>6</th>\n",
       "      <td>164201</td>\n",
       "      <td>BIKRAM PRAJAPATI</td>\n",
       "      <td>NP</td>\n",
       "      <td>NP</td>\n",
       "      <td>9009</td>\n",
       "      <td>1500</td>\n",
       "      <td>1</td>\n",
       "      <td>18</td>\n",
       "      <td>011801642016</td>\n",
       "      <td>NPR</td>\n",
       "      <td>...</td>\n",
       "      <td>False</td>\n",
       "      <td>True</td>\n",
       "      <td>True</td>\n",
       "      <td>False</td>\n",
       "      <td>9841745446</td>\n",
       "      <td>17-Oct-17</td>\n",
       "      <td>19-Dec-18</td>\n",
       "      <td>01-Feb-18</td>\n",
       "      <td>05-Oct-45</td>\n",
       "      <td>CORPORATE OFFICE</td>\n",
       "    </tr>\n",
       "    <tr>\n",
       "      <th>7</th>\n",
       "      <td>444370</td>\n",
       "      <td>BISHAL KHANAL</td>\n",
       "      <td>NP</td>\n",
       "      <td>NP</td>\n",
       "      <td>9009</td>\n",
       "      <td>1500</td>\n",
       "      <td>1</td>\n",
       "      <td>21</td>\n",
       "      <td>012104443702</td>\n",
       "      <td>NPR</td>\n",
       "      <td>...</td>\n",
       "      <td>True</td>\n",
       "      <td>True</td>\n",
       "      <td>True</td>\n",
       "      <td>False</td>\n",
       "      <td>9845212172</td>\n",
       "      <td>14-Feb-18</td>\n",
       "      <td>25-Apr-19</td>\n",
       "      <td>25-Mar-19</td>\n",
       "      <td>11-Nov-46</td>\n",
       "      <td>CORPORATE OFFICE</td>\n",
       "    </tr>\n",
       "    <tr>\n",
       "      <th>8</th>\n",
       "      <td>683010</td>\n",
       "      <td>SAROJ JAIRU</td>\n",
       "      <td>NP</td>\n",
       "      <td>NP</td>\n",
       "      <td>9009</td>\n",
       "      <td>1500</td>\n",
       "      <td>1</td>\n",
       "      <td>21</td>\n",
       "      <td>012106830108</td>\n",
       "      <td>NPR</td>\n",
       "      <td>...</td>\n",
       "      <td>True</td>\n",
       "      <td>True</td>\n",
       "      <td>True</td>\n",
       "      <td>False</td>\n",
       "      <td>9816349098</td>\n",
       "      <td>08-Jul-18</td>\n",
       "      <td>10-Jan-25</td>\n",
       "      <td>26-Dec-24</td>\n",
       "      <td>17-Jul-49</td>\n",
       "      <td>CORPORATE OFFICE</td>\n",
       "    </tr>\n",
       "    <tr>\n",
       "      <th>9</th>\n",
       "      <td>683204</td>\n",
       "      <td>GIRWAN BIKRAM THAPA</td>\n",
       "      <td>NP</td>\n",
       "      <td>NP</td>\n",
       "      <td>9009</td>\n",
       "      <td>1500</td>\n",
       "      <td>1</td>\n",
       "      <td>21</td>\n",
       "      <td>012106832045</td>\n",
       "      <td>NPR</td>\n",
       "      <td>...</td>\n",
       "      <td>True</td>\n",
       "      <td>True</td>\n",
       "      <td>True</td>\n",
       "      <td>False</td>\n",
       "      <td>9802005050</td>\n",
       "      <td>05-Mar-19</td>\n",
       "      <td>08-Jan-25</td>\n",
       "      <td>25-Apr-19</td>\n",
       "      <td>07-May-49</td>\n",
       "      <td>CORPORATE OFFICE</td>\n",
       "    </tr>\n",
       "  </tbody>\n",
       "</table>\n",
       "<p>10 rows × 24 columns</p>\n",
       "</div>"
      ],
      "text/plain": [
       "   custid                 name national resident industry sector  branch  \\\n",
       "0  444500         DEEPAK DHAMI       NP       NP     9009   1500       1   \n",
       "1  100199    UPENDRA P. SUBEDI       NP       NP     9009   1500       1   \n",
       "2   67038      SIDDHI BHANDARI       NP       NP     9009   1500       1   \n",
       "3   67441      SHOBHA SHRESTHA       NP       NP     9009   1500       1   \n",
       "4  444277      APURVA RAUNIYAR       NP       NP     9009   1500       1   \n",
       "5  403653   DIBYA RAJ POKHAREL       NP       NP     9009   1500       1   \n",
       "6  164201     BIKRAM PRAJAPATI       NP       NP     9009   1500       1   \n",
       "7  444370        BISHAL KHANAL       NP       NP     9009   1500       1   \n",
       "8  683010          SAROJ JAIRU       NP       NP     9009   1500       1   \n",
       "9  683204  GIRWAN BIKRAM THAPA       NP       NP     9009   1500       1   \n",
       "\n",
       "   actype     accountno  ccy  ... ibservice  acservice   kyc  inactive  \\\n",
       "0      21  012104445004  NPR  ...      True       True  True     False   \n",
       "1      18  011801001998  NPR  ...      True       True  True     False   \n",
       "2      99  019900670380  NPR  ...      True      False  True      True   \n",
       "3      21  012100674414  NPR  ...     False      False  True     False   \n",
       "4      21  012104442772  NPR  ...      True       True  True     False   \n",
       "5      21  012104036537  NPR  ...     False       True  True     False   \n",
       "6      18  011801642016  NPR  ...     False       True  True     False   \n",
       "7      21  012104443702  NPR  ...      True       True  True     False   \n",
       "8      21  012106830108  NPR  ...      True       True  True     False   \n",
       "9      21  012106832045  NPR  ...      True       True  True     False   \n",
       "\n",
       "     mobileno   opendate    ldrdate    lcrdate        dob bank_branch_account  \n",
       "0  9848627268  01-Jul-18  05-Jan-25  02-Jan-25  03-Apr-52    CORPORATE OFFICE  \n",
       "1  9841464720  13-Sep-17  10-Jan-25  16-Apr-19  14-Jul-42    CORPORATE OFFICE  \n",
       "2  9841369614  08-Jul-10  08-Jul-10  08-Jul-10  15-Sep-35    CORPORATE OFFICE  \n",
       "3  9856041044  02-Mar-08  24-Apr-19  11-Jan-25  29-Jan-36    CORPORATE OFFICE  \n",
       "4  9823452053  25-Sep-17  03-Jan-25  05-Jan-25  12-Nov-50    CORPORATE OFFICE  \n",
       "5  9842072607  03-Aug-12  02-Jan-25  28-Apr-19  28-Sep-37    CORPORATE OFFICE  \n",
       "6  9841745446  17-Oct-17  19-Dec-18  01-Feb-18  05-Oct-45    CORPORATE OFFICE  \n",
       "7  9845212172  14-Feb-18  25-Apr-19  25-Mar-19  11-Nov-46    CORPORATE OFFICE  \n",
       "8  9816349098  08-Jul-18  10-Jan-25  26-Dec-24  17-Jul-49    CORPORATE OFFICE  \n",
       "9  9802005050  05-Mar-19  08-Jan-25  25-Apr-19  07-May-49    CORPORATE OFFICE  \n",
       "\n",
       "[10 rows x 24 columns]"
      ]
     },
     "execution_count": 25,
     "metadata": {},
     "output_type": "execute_result"
    }
   ],
   "source": [
    "df_account.head(10)"
   ]
  },
  {
   "cell_type": "code",
   "execution_count": 26,
   "metadata": {},
   "outputs": [
    {
     "data": {
      "text/plain": [
       "dob\n",
       "  -   -      7472\n",
       "01-Jan-45       9\n",
       "15-Jun-38       7\n",
       "01-Jan-16       7\n",
       "15-Aug-36       7\n",
       "             ... \n",
       "07-Jul-34       1\n",
       "09-Mar-49       1\n",
       "16-Oct-53       1\n",
       "16-Feb-44       1\n",
       "01-Nov-24       1\n",
       "Name: count, Length: 6282, dtype: int64"
      ]
     },
     "execution_count": 26,
     "metadata": {},
     "output_type": "execute_result"
    }
   ],
   "source": [
    "df_account['dob'].value_counts()"
   ]
  },
  {
   "cell_type": "code",
   "execution_count": 34,
   "metadata": {},
   "outputs": [],
   "source": [
    "df = pd.merge(df_account, df_statement, \n",
    "                     on=['custid', 'accountno', 'branch'], \n",
    "                     how='inner', \n",
    "                     suffixes=('_account', '_transaction'))"
   ]
  },
  {
   "cell_type": "code",
   "execution_count": 35,
   "metadata": {},
   "outputs": [
    {
     "data": {
      "text/plain": [
       "Index(['custid', 'name', 'national', 'resident', 'industry', 'sector',\n",
       "       'branch', 'actype', 'accountno', 'ccy_account', 'category', 'acbal',\n",
       "       'lcyacbal', 'mbservice', 'ibservice', 'acservice', 'kyc', 'inactive',\n",
       "       'mobileno', 'opendate', 'ldrdate', 'lcrdate', 'dob',\n",
       "       'bank_branch_account_account', 'stmtid', 'txncode', 'txnrefno',\n",
       "       'narration', 'txndate', 'valuedate', 'ccy_transaction', 'amount',\n",
       "       'lcyamount', 'excrate', 'ourref', 'systemid', 'override', 'inuser',\n",
       "       'indatetime', 'authuser', 'audatetime', 'userbranch',\n",
       "       'bank_branch_account_transaction'],\n",
       "      dtype='object')"
      ]
     },
     "execution_count": 35,
     "metadata": {},
     "output_type": "execute_result"
    }
   ],
   "source": [
    "df.columns"
   ]
  },
  {
   "cell_type": "code",
   "execution_count": 36,
   "metadata": {},
   "outputs": [
    {
     "data": {
      "text/plain": [
       "(4297, 43)"
      ]
     },
     "execution_count": 36,
     "metadata": {},
     "output_type": "execute_result"
    }
   ],
   "source": [
    "df.shape"
   ]
  },
  {
   "cell_type": "code",
   "execution_count": 39,
   "metadata": {},
   "outputs": [
    {
     "data": {
      "text/plain": [
       "(24, 22, 43)"
      ]
     },
     "execution_count": 39,
     "metadata": {},
     "output_type": "execute_result"
    }
   ],
   "source": [
    "len(df_account.columns), len(df_statement.columns), len(df.columns)"
   ]
  },
  {
   "cell_type": "code",
   "execution_count": 38,
   "metadata": {},
   "outputs": [
    {
     "data": {
      "text/plain": [
       "ccy_account\n",
       "NPR    4069\n",
       "USD     140\n",
       "INR      35\n",
       "EUR      26\n",
       "JPY      15\n",
       "9.9       7\n",
       "AUD       2\n",
       "GBP       2\n",
       "1.2       1\n",
       "Name: count, dtype: int64"
      ]
     },
     "execution_count": 38,
     "metadata": {},
     "output_type": "execute_result"
    }
   ],
   "source": [
    "df['ccy_account'].value_counts()"
   ]
  },
  {
   "cell_type": "code",
   "execution_count": 40,
   "metadata": {},
   "outputs": [],
   "source": [
    "import re"
   ]
  },
  {
   "cell_type": "code",
   "execution_count": 41,
   "metadata": {},
   "outputs": [],
   "source": [
    "def clean_text(text):\n",
    "    \"\"\"\n",
    "    Clean text by removing special characters and standardizing format\n",
    "    \"\"\"\n",
    "    if pd.isna(text) or not isinstance(text, str):\n",
    "        return text\n",
    "    \n",
    "    # Remove special characters and standardize\n",
    "    cleaned = text.strip()\n",
    "    cleaned = re.sub(r'[()[\\]{}]', '', cleaned)  # Remove brackets and parentheses\n",
    "    cleaned = re.sub(r'\\s+', ' ', cleaned)  # Standardize spaces\n",
    "    cleaned = re.sub(r'^\\-+|\\-+$', '', cleaned)  # Remove leading/trailing hyphens\n",
    "    cleaned = re.sub(r'\\-+', '-', cleaned)  # Standardize multiple hyphens to single\n",
    "    cleaned = re.sub(r'[\\*\\#\\@\\!\\?\\;\\:]', '', cleaned)  # Remove other special characters\n",
    "    return cleaned.strip()"
   ]
  },
  {
   "cell_type": "code",
   "execution_count": 42,
   "metadata": {},
   "outputs": [],
   "source": [
    "def clean_account_data(df):\n",
    "    \"\"\"\n",
    "    Clean and standardize account data\n",
    "    \"\"\"\n",
    "    # Create a copy to avoid modifying original data\n",
    "    df = df.copy()\n",
    "    \n",
    "    # Convert column names to snake_case for consistency\n",
    "    df.columns = df.columns.str.lower().str.replace(' ', '_')\n",
    "    \n",
    "    # Clean text in all string columns\n",
    "    object_columns = df.select_dtypes(include=['object']).columns\n",
    "    for col in object_columns:\n",
    "        df[col] = df[col].apply(clean_text)\n",
    "    \n",
    "    # Clean date columns - handle various date formats\n",
    "    date_columns = ['account_open_date', 'last_debit_date', 'last_credit_date', 'date_of_birth']\n",
    "    for col in date_columns:\n",
    "        # First, clean any special characters in date strings\n",
    "        df[col] = df[col].str.replace(r'[^\\d\\-\\s\\/\\.]', '', regex=True)\n",
    "        # Try multiple date formats\n",
    "        df[col] = pd.to_datetime(df[col], format='%d-%b-%y', errors='coerce')\n",
    "        # For any failed conversions, try different formats\n",
    "        mask = df[col].isna()\n",
    "        if mask.any():\n",
    "            df.loc[mask, col] = pd.to_datetime(df.loc[mask, col], errors='coerce')\n",
    "    \n",
    "    # Clean numeric columns - handle special characters and convert to numeric\n",
    "    numeric_columns = ['account_balance', 'local_currency_balance']\n",
    "    for col in numeric_columns:\n",
    "        if df[col].dtype == 'object':\n",
    "            # Remove currency symbols, commas, and other special characters\n",
    "            df[col] = df[col].astype(str).str.replace(r'[^\\d\\-\\.]', '', regex=True)\n",
    "        df[col] = pd.to_numeric(df[col], errors='coerce')\n",
    "    \n",
    "    # Convert boolean columns to proper boolean type\n",
    "    boolean_columns = ['mobile_banking', 'internet_banking', 'account_service', \n",
    "                      'kyc_status', 'account_inactive']\n",
    "    for col in boolean_columns:\n",
    "        # Handle various representations of True/False\n",
    "        df[col] = df[col].str.lower() if df[col].dtype == 'object' else df[col]\n",
    "        df[col] = df[col].map({\n",
    "            'true': True, 'yes': True, '1': True, 't': True, 'y': True,\n",
    "            'false': False, 'no': False, '0': False, 'f': False, 'n': False\n",
    "        })\n",
    "    \n",
    "    # Clean and standardize categorical columns\n",
    "    df['nationality'] = df['nationality'].str.upper().str.strip()\n",
    "    df['residency_status'] = df['residency_status'].str.upper().str.strip()\n",
    "    df['customer_industry'] = df['customer_industry'].apply(lambda x: \n",
    "        re.sub(r'\\*+', '', str(x)).title().strip())  # Remove asterisks\n",
    "    df['economic_sector'] = df['economic_sector'].apply(lambda x: \n",
    "        re.sub(r'\\*+', '', str(x)).title().strip())\n",
    "    df['bank_branch'] = df['bank_branch'].str.title().str.strip()\n",
    "    df['account_type'] = df['account_type'].str.title().str.strip()\n",
    "    df['currency_code'] = df['currency_code'].str.upper().str.strip()\n",
    "    df['account_category'] = df['account_category'].str.title().str.strip()\n",
    "    \n",
    "    # Clean mobile number\n",
    "    df['mobile_number'] = df['mobile_number'].apply(lambda x: \n",
    "        re.sub(r'[^\\d]', '', str(x)) if pd.notnull(x) else '')\n",
    "    \n",
    "    # Handle missing values\n",
    "    df['account_balance'] = df['account_balance'].fillna(0)\n",
    "    df['local_currency_balance'] = df['local_currency_balance'].fillna(0)\n",
    "    df['mobile_number'] = df['mobile_number'].fillna('')\n",
    "    \n",
    "    # Add derived columns\n",
    "    df['account_age_days'] = (pd.Timestamp.now() - df['account_open_date']).dt.days\n",
    "    df['customer_age'] = (pd.Timestamp.now() - df['date_of_birth']).dt.years\n",
    "    \n",
    "    # Create account status column based on balance and activity\n",
    "    df['account_status'] = np.where(df['account_inactive'], 'Inactive',\n",
    "                                  np.where(df['account_balance'] < 0, 'Overdrawn', 'Active'))\n",
    "    \n",
    "    # Clean customer_id - remove any non-numeric characters if it's meant to be numeric\n",
    "    df['customer_id'] = pd.to_numeric(df['customer_id'].astype(str).str.replace(r'\\D', '', regex=True), \n",
    "                                    errors='coerce')\n",
    "    \n",
    "    # Sort by customer_id for consistency\n",
    "    df = df.sort_values('customer_id')\n",
    "    \n",
    "    # Reset index\n",
    "    df = df.reset_index(drop=True)\n",
    "    \n",
    "    return df"
   ]
  },
  {
   "cell_type": "code",
   "execution_count": 43,
   "metadata": {},
   "outputs": [],
   "source": [
    "def generate_data_quality_report(df_original, df_cleaned):\n",
    "    \"\"\"\n",
    "    Generate a report showing the impact of data cleaning\n",
    "    \"\"\"\n",
    "    report = {\n",
    "        'original_rows': len(df_original),\n",
    "        'cleaned_rows': len(df_cleaned),\n",
    "        'missing_values_before': df_original.isnull().sum().to_dict(),\n",
    "        'missing_values_after': df_cleaned.isnull().sum().to_dict(),\n",
    "        'unique_values': {col: df_cleaned[col].nunique() for col in df_cleaned.columns},\n",
    "        'data_types': df_cleaned.dtypes.to_dict(),\n",
    "        'special_chars_removed': {\n",
    "            col: sum(df_original[col].astype(str).str.contains(r'[()[\\]{}\\*\\#\\@\\!\\?\\;\\:]', regex=True))\n",
    "            for col in df_original.columns if df_original[col].dtype == 'object'\n",
    "        }\n",
    "    }\n",
    "    return report"
   ]
  },
  {
   "cell_type": "code",
   "execution_count": 44,
   "metadata": {},
   "outputs": [
    {
     "ename": "KeyError",
     "evalue": "'account_open_date'",
     "output_type": "error",
     "traceback": [
      "\u001b[1;31m---------------------------------------------------------------------------\u001b[0m",
      "\u001b[1;31mKeyError\u001b[0m                                  Traceback (most recent call last)",
      "File \u001b[1;32md:\\PythonProjects\\AgenticAIBank\\bank\\Lib\\site-packages\\pandas\\core\\indexes\\base.py:3805\u001b[0m, in \u001b[0;36mIndex.get_loc\u001b[1;34m(self, key)\u001b[0m\n\u001b[0;32m   3804\u001b[0m \u001b[38;5;28;01mtry\u001b[39;00m:\n\u001b[1;32m-> 3805\u001b[0m     \u001b[38;5;28;01mreturn\u001b[39;00m \u001b[38;5;28;43mself\u001b[39;49m\u001b[38;5;241;43m.\u001b[39;49m\u001b[43m_engine\u001b[49m\u001b[38;5;241;43m.\u001b[39;49m\u001b[43mget_loc\u001b[49m\u001b[43m(\u001b[49m\u001b[43mcasted_key\u001b[49m\u001b[43m)\u001b[49m\n\u001b[0;32m   3806\u001b[0m \u001b[38;5;28;01mexcept\u001b[39;00m \u001b[38;5;167;01mKeyError\u001b[39;00m \u001b[38;5;28;01mas\u001b[39;00m err:\n",
      "File \u001b[1;32mindex.pyx:167\u001b[0m, in \u001b[0;36mpandas._libs.index.IndexEngine.get_loc\u001b[1;34m()\u001b[0m\n",
      "File \u001b[1;32mindex.pyx:196\u001b[0m, in \u001b[0;36mpandas._libs.index.IndexEngine.get_loc\u001b[1;34m()\u001b[0m\n",
      "File \u001b[1;32mpandas\\\\_libs\\\\hashtable_class_helper.pxi:7081\u001b[0m, in \u001b[0;36mpandas._libs.hashtable.PyObjectHashTable.get_item\u001b[1;34m()\u001b[0m\n",
      "File \u001b[1;32mpandas\\\\_libs\\\\hashtable_class_helper.pxi:7089\u001b[0m, in \u001b[0;36mpandas._libs.hashtable.PyObjectHashTable.get_item\u001b[1;34m()\u001b[0m\n",
      "\u001b[1;31mKeyError\u001b[0m: 'account_open_date'",
      "\nThe above exception was the direct cause of the following exception:\n",
      "\u001b[1;31mKeyError\u001b[0m                                  Traceback (most recent call last)",
      "Cell \u001b[1;32mIn[44], line 4\u001b[0m\n\u001b[0;32m      1\u001b[0m df \u001b[38;5;241m=\u001b[39m pd\u001b[38;5;241m.\u001b[39mread_csv(\u001b[38;5;124m'\u001b[39m\u001b[38;5;124mdata/AccountData.csv\u001b[39m\u001b[38;5;124m'\u001b[39m)\n\u001b[0;32m      3\u001b[0m \u001b[38;5;66;03m# Clean the data\u001b[39;00m\n\u001b[1;32m----> 4\u001b[0m cleaned_df \u001b[38;5;241m=\u001b[39m \u001b[43mclean_account_data\u001b[49m\u001b[43m(\u001b[49m\u001b[43mdf\u001b[49m\u001b[43m)\u001b[49m\n\u001b[0;32m      6\u001b[0m \u001b[38;5;66;03m# Generate quality report\u001b[39;00m\n\u001b[0;32m      7\u001b[0m quality_report \u001b[38;5;241m=\u001b[39m generate_data_quality_report(df, cleaned_df)\n",
      "Cell \u001b[1;32mIn[42], line 20\u001b[0m, in \u001b[0;36mclean_account_data\u001b[1;34m(df)\u001b[0m\n\u001b[0;32m     17\u001b[0m date_columns \u001b[38;5;241m=\u001b[39m [\u001b[38;5;124m'\u001b[39m\u001b[38;5;124maccount_open_date\u001b[39m\u001b[38;5;124m'\u001b[39m, \u001b[38;5;124m'\u001b[39m\u001b[38;5;124mlast_debit_date\u001b[39m\u001b[38;5;124m'\u001b[39m, \u001b[38;5;124m'\u001b[39m\u001b[38;5;124mlast_credit_date\u001b[39m\u001b[38;5;124m'\u001b[39m, \u001b[38;5;124m'\u001b[39m\u001b[38;5;124mdate_of_birth\u001b[39m\u001b[38;5;124m'\u001b[39m]\n\u001b[0;32m     18\u001b[0m \u001b[38;5;28;01mfor\u001b[39;00m col \u001b[38;5;129;01min\u001b[39;00m date_columns:\n\u001b[0;32m     19\u001b[0m     \u001b[38;5;66;03m# First, clean any special characters in date strings\u001b[39;00m\n\u001b[1;32m---> 20\u001b[0m     df[col] \u001b[38;5;241m=\u001b[39m \u001b[43mdf\u001b[49m\u001b[43m[\u001b[49m\u001b[43mcol\u001b[49m\u001b[43m]\u001b[49m\u001b[38;5;241m.\u001b[39mstr\u001b[38;5;241m.\u001b[39mreplace(\u001b[38;5;124mr\u001b[39m\u001b[38;5;124m'\u001b[39m\u001b[38;5;124m[^\u001b[39m\u001b[38;5;124m\\\u001b[39m\u001b[38;5;124md\u001b[39m\u001b[38;5;124m\\\u001b[39m\u001b[38;5;124m-\u001b[39m\u001b[38;5;124m\\\u001b[39m\u001b[38;5;124ms\u001b[39m\u001b[38;5;124m\\\u001b[39m\u001b[38;5;124m/\u001b[39m\u001b[38;5;124m\\\u001b[39m\u001b[38;5;124m.]\u001b[39m\u001b[38;5;124m'\u001b[39m, \u001b[38;5;124m'\u001b[39m\u001b[38;5;124m'\u001b[39m, regex\u001b[38;5;241m=\u001b[39m\u001b[38;5;28;01mTrue\u001b[39;00m)\n\u001b[0;32m     21\u001b[0m     \u001b[38;5;66;03m# Try multiple date formats\u001b[39;00m\n\u001b[0;32m     22\u001b[0m     df[col] \u001b[38;5;241m=\u001b[39m pd\u001b[38;5;241m.\u001b[39mto_datetime(df[col], \u001b[38;5;28mformat\u001b[39m\u001b[38;5;241m=\u001b[39m\u001b[38;5;124m'\u001b[39m\u001b[38;5;132;01m%d\u001b[39;00m\u001b[38;5;124m-\u001b[39m\u001b[38;5;124m%\u001b[39m\u001b[38;5;124mb-\u001b[39m\u001b[38;5;124m%\u001b[39m\u001b[38;5;124my\u001b[39m\u001b[38;5;124m'\u001b[39m, errors\u001b[38;5;241m=\u001b[39m\u001b[38;5;124m'\u001b[39m\u001b[38;5;124mcoerce\u001b[39m\u001b[38;5;124m'\u001b[39m)\n",
      "File \u001b[1;32md:\\PythonProjects\\AgenticAIBank\\bank\\Lib\\site-packages\\pandas\\core\\frame.py:4102\u001b[0m, in \u001b[0;36mDataFrame.__getitem__\u001b[1;34m(self, key)\u001b[0m\n\u001b[0;32m   4100\u001b[0m \u001b[38;5;28;01mif\u001b[39;00m \u001b[38;5;28mself\u001b[39m\u001b[38;5;241m.\u001b[39mcolumns\u001b[38;5;241m.\u001b[39mnlevels \u001b[38;5;241m>\u001b[39m \u001b[38;5;241m1\u001b[39m:\n\u001b[0;32m   4101\u001b[0m     \u001b[38;5;28;01mreturn\u001b[39;00m \u001b[38;5;28mself\u001b[39m\u001b[38;5;241m.\u001b[39m_getitem_multilevel(key)\n\u001b[1;32m-> 4102\u001b[0m indexer \u001b[38;5;241m=\u001b[39m \u001b[38;5;28;43mself\u001b[39;49m\u001b[38;5;241;43m.\u001b[39;49m\u001b[43mcolumns\u001b[49m\u001b[38;5;241;43m.\u001b[39;49m\u001b[43mget_loc\u001b[49m\u001b[43m(\u001b[49m\u001b[43mkey\u001b[49m\u001b[43m)\u001b[49m\n\u001b[0;32m   4103\u001b[0m \u001b[38;5;28;01mif\u001b[39;00m is_integer(indexer):\n\u001b[0;32m   4104\u001b[0m     indexer \u001b[38;5;241m=\u001b[39m [indexer]\n",
      "File \u001b[1;32md:\\PythonProjects\\AgenticAIBank\\bank\\Lib\\site-packages\\pandas\\core\\indexes\\base.py:3812\u001b[0m, in \u001b[0;36mIndex.get_loc\u001b[1;34m(self, key)\u001b[0m\n\u001b[0;32m   3807\u001b[0m     \u001b[38;5;28;01mif\u001b[39;00m \u001b[38;5;28misinstance\u001b[39m(casted_key, \u001b[38;5;28mslice\u001b[39m) \u001b[38;5;129;01mor\u001b[39;00m (\n\u001b[0;32m   3808\u001b[0m         \u001b[38;5;28misinstance\u001b[39m(casted_key, abc\u001b[38;5;241m.\u001b[39mIterable)\n\u001b[0;32m   3809\u001b[0m         \u001b[38;5;129;01mand\u001b[39;00m \u001b[38;5;28many\u001b[39m(\u001b[38;5;28misinstance\u001b[39m(x, \u001b[38;5;28mslice\u001b[39m) \u001b[38;5;28;01mfor\u001b[39;00m x \u001b[38;5;129;01min\u001b[39;00m casted_key)\n\u001b[0;32m   3810\u001b[0m     ):\n\u001b[0;32m   3811\u001b[0m         \u001b[38;5;28;01mraise\u001b[39;00m InvalidIndexError(key)\n\u001b[1;32m-> 3812\u001b[0m     \u001b[38;5;28;01mraise\u001b[39;00m \u001b[38;5;167;01mKeyError\u001b[39;00m(key) \u001b[38;5;28;01mfrom\u001b[39;00m\u001b[38;5;250m \u001b[39m\u001b[38;5;21;01merr\u001b[39;00m\n\u001b[0;32m   3813\u001b[0m \u001b[38;5;28;01mexcept\u001b[39;00m \u001b[38;5;167;01mTypeError\u001b[39;00m:\n\u001b[0;32m   3814\u001b[0m     \u001b[38;5;66;03m# If we have a listlike key, _check_indexing_error will raise\u001b[39;00m\n\u001b[0;32m   3815\u001b[0m     \u001b[38;5;66;03m#  InvalidIndexError. Otherwise we fall through and re-raise\u001b[39;00m\n\u001b[0;32m   3816\u001b[0m     \u001b[38;5;66;03m#  the TypeError.\u001b[39;00m\n\u001b[0;32m   3817\u001b[0m     \u001b[38;5;28mself\u001b[39m\u001b[38;5;241m.\u001b[39m_check_indexing_error(key)\n",
      "\u001b[1;31mKeyError\u001b[0m: 'account_open_date'"
     ]
    }
   ],
   "source": [
    "df = pd.read_csv('data/AccountData.csv')\n",
    "    \n",
    "# Clean the data\n",
    "cleaned_df = clean_account_data(df)\n",
    "    \n",
    "# Generate quality report\n",
    "quality_report = generate_data_quality_report(df, cleaned_df)\n",
    "    \n",
    "# return cleaned_df, quality_report"
   ]
  }
 ],
 "metadata": {
  "kernelspec": {
   "display_name": "bank",
   "language": "python",
   "name": "python3"
  },
  "language_info": {
   "codemirror_mode": {
    "name": "ipython",
    "version": 3
   },
   "file_extension": ".py",
   "mimetype": "text/x-python",
   "name": "python",
   "nbconvert_exporter": "python",
   "pygments_lexer": "ipython3",
   "version": "3.11.9"
  }
 },
 "nbformat": 4,
 "nbformat_minor": 2
}
