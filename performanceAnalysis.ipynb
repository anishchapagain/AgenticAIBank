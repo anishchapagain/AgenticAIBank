{
 "cells": [
  {
   "cell_type": "code",
   "execution_count": 3,
   "metadata": {},
   "outputs": [],
   "source": [
    "import pandas as pd\n",
    "import numpy as np"
   ]
  },
  {
   "cell_type": "code",
   "execution_count": 4,
   "metadata": {},
   "outputs": [],
   "source": [
    "df_account = pd.read_csv('data/AccountData.csv')  # AccountData\n",
    "# df_statement = pd.read_csv(STATEMENT_PATH)\n",
    "# df = preprocess_data(df_account, df_statement)\n",
    "# print(df.head(3))\n",
    "# print(df.columns)"
   ]
  },
  {
   "cell_type": "code",
   "execution_count": 5,
   "metadata": {},
   "outputs": [
    {
     "data": {
      "text/plain": [
       "Index(['custid', 'name', 'national', 'resident', 'industry', 'sector',\n",
       "       'branch', 'actype', 'accountno', 'ccy', 'category', 'acbal', 'lcyacbal',\n",
       "       'mbservice', 'ibservice', 'acservice', 'kyc', 'inactive', 'mobileno',\n",
       "       'opendate', 'ldrdate', 'lcrdate', 'dob'],\n",
       "      dtype='object')"
      ]
     },
     "execution_count": 5,
     "metadata": {},
     "output_type": "execute_result"
    }
   ],
   "source": [
    "df_account.columns"
   ]
  },
  {
   "cell_type": "code",
   "execution_count": 6,
   "metadata": {},
   "outputs": [
    {
     "data": {
      "text/plain": [
       "branch\n",
       "12    14414\n",
       "1      1953\n",
       "90        8\n",
       "13        4\n",
       "11        2\n",
       "15        2\n",
       "Name: count, dtype: int64"
      ]
     },
     "execution_count": 6,
     "metadata": {},
     "output_type": "execute_result"
    }
   ],
   "source": [
    "df_account['branch'].value_counts()"
   ]
  },
  {
   "cell_type": "code",
   "execution_count": 7,
   "metadata": {},
   "outputs": [],
   "source": [
    "def column_mapping(file_path, old_column, new_column):\n",
    "    cols = pd.read_json(file_path)\n",
    "    mapping = dict(\n",
    "        zip(cols[old_column], cols[new_column])\n",
    "    )\n",
    "    return mapping"
   ]
  },
  {
   "cell_type": "code",
   "execution_count": 8,
   "metadata": {},
   "outputs": [],
   "source": [
    "branch_code_to_name = column_mapping('data/Branch.json','Code','Desc')"
   ]
  },
  {
   "cell_type": "code",
   "execution_count": null,
   "metadata": {},
   "outputs": [],
   "source": [
    "df_account['bank_branch_account'] = pd.to_numeric(df_account['branch'], errors='coerce')"
   ]
  },
  {
   "cell_type": "code",
   "execution_count": 12,
   "metadata": {},
   "outputs": [],
   "source": [
    "df_account[\"bank_branch_account\"] = df_account[\"bank_branch_account\"].map(branch_code_to_name).fillna('BBRANCH')"
   ]
  },
  {
   "cell_type": "code",
   "execution_count": 13,
   "metadata": {},
   "outputs": [
    {
     "data": {
      "text/plain": [
       "bank_branch_account\n",
       "DAMAULI BRANCH        14414\n",
       "CORPORATE OFFICE       1953\n",
       "BBRANCH                   8\n",
       "BHAIRAHAWA BRANCH         4\n",
       "POKHARA BRANCH            2\n",
       "MAHENDRAPUL BRANCH        2\n",
       "Name: count, dtype: int64"
      ]
     },
     "execution_count": 13,
     "metadata": {},
     "output_type": "execute_result"
    }
   ],
   "source": [
    "df_account['bank_branch_account'].value_counts()"
   ]
  },
  {
   "cell_type": "code",
   "execution_count": 15,
   "metadata": {},
   "outputs": [],
   "source": [
    "df_statement = pd.read_csv('data/StmtData.csv')"
   ]
  },
  {
   "cell_type": "code",
   "execution_count": 16,
   "metadata": {},
   "outputs": [
    {
     "data": {
      "text/plain": [
       "Index(['stmtid', 'accountno', 'branch', 'custid', 'txncode', 'txnrefno',\n",
       "       'narration', 'txndate', 'valuedate', 'ccy', 'amount', 'lcyamount',\n",
       "       'excrate', 'ourref', 'systemid', 'override', 'inuser', 'indatetime',\n",
       "       'authuser', 'audatetime', 'userbranch'],\n",
       "      dtype='object')"
      ]
     },
     "execution_count": 16,
     "metadata": {},
     "output_type": "execute_result"
    }
   ],
   "source": [
    "df_statement.columns"
   ]
  },
  {
   "cell_type": "code",
   "execution_count": 22,
   "metadata": {},
   "outputs": [
    {
     "data": {
      "text/plain": [
       "branch\n",
       "1     5048\n",
       "12    2818\n",
       "90      10\n",
       "11       6\n",
       "Name: count, dtype: int64"
      ]
     },
     "execution_count": 22,
     "metadata": {},
     "output_type": "execute_result"
    }
   ],
   "source": [
    "df_statement['branch'].value_counts()"
   ]
  },
  {
   "cell_type": "code",
   "execution_count": 19,
   "metadata": {},
   "outputs": [
    {
     "data": {
      "text/plain": [
       "userbranch\n",
       "BNK    7882\n",
       "Name: count, dtype: int64"
      ]
     },
     "execution_count": 19,
     "metadata": {},
     "output_type": "execute_result"
    }
   ],
   "source": [
    "df_statement['userbranch'].value_counts()"
   ]
  },
  {
   "cell_type": "code",
   "execution_count": 21,
   "metadata": {},
   "outputs": [],
   "source": [
    "df_statement['bank_branch_account'] = pd.to_numeric(df_statement['branch'], errors='coerce')\n",
    "df_statement[\"bank_branch_account\"] = df_statement[\"bank_branch_account\"].map(branch_code_to_name).fillna('BBRANCH')"
   ]
  },
  {
   "cell_type": "code",
   "execution_count": 23,
   "metadata": {},
   "outputs": [
    {
     "data": {
      "text/plain": [
       "bank_branch_account\n",
       "CORPORATE OFFICE    5048\n",
       "DAMAULI BRANCH      2818\n",
       "BBRANCH               10\n",
       "POKHARA BRANCH         6\n",
       "Name: count, dtype: int64"
      ]
     },
     "execution_count": 23,
     "metadata": {},
     "output_type": "execute_result"
    }
   ],
   "source": [
    "df_statement['bank_branch_account'].value_counts()"
   ]
  },
  {
   "cell_type": "code",
   "execution_count": 25,
   "metadata": {},
   "outputs": [
    {
     "data": {
      "text/html": [
       "<div>\n",
       "<style scoped>\n",
       "    .dataframe tbody tr th:only-of-type {\n",
       "        vertical-align: middle;\n",
       "    }\n",
       "\n",
       "    .dataframe tbody tr th {\n",
       "        vertical-align: top;\n",
       "    }\n",
       "\n",
       "    .dataframe thead th {\n",
       "        text-align: right;\n",
       "    }\n",
       "</style>\n",
       "<table border=\"1\" class=\"dataframe\">\n",
       "  <thead>\n",
       "    <tr style=\"text-align: right;\">\n",
       "      <th></th>\n",
       "      <th>custid</th>\n",
       "      <th>name</th>\n",
       "      <th>national</th>\n",
       "      <th>resident</th>\n",
       "      <th>industry</th>\n",
       "      <th>sector</th>\n",
       "      <th>branch</th>\n",
       "      <th>actype</th>\n",
       "      <th>accountno</th>\n",
       "      <th>ccy</th>\n",
       "      <th>...</th>\n",
       "      <th>ibservice</th>\n",
       "      <th>acservice</th>\n",
       "      <th>kyc</th>\n",
       "      <th>inactive</th>\n",
       "      <th>mobileno</th>\n",
       "      <th>opendate</th>\n",
       "      <th>ldrdate</th>\n",
       "      <th>lcrdate</th>\n",
       "      <th>dob</th>\n",
       "      <th>bank_branch_account</th>\n",
       "    </tr>\n",
       "  </thead>\n",
       "  <tbody>\n",
       "    <tr>\n",
       "      <th>0</th>\n",
       "      <td>444500</td>\n",
       "      <td>DEEPAK DHAMI</td>\n",
       "      <td>NP</td>\n",
       "      <td>NP</td>\n",
       "      <td>9009</td>\n",
       "      <td>1500</td>\n",
       "      <td>1</td>\n",
       "      <td>21</td>\n",
       "      <td>012104445004</td>\n",
       "      <td>NPR</td>\n",
       "      <td>...</td>\n",
       "      <td>True</td>\n",
       "      <td>True</td>\n",
       "      <td>True</td>\n",
       "      <td>False</td>\n",
       "      <td>9848627268</td>\n",
       "      <td>01-Jul-18</td>\n",
       "      <td>05-Jan-25</td>\n",
       "      <td>02-Jan-25</td>\n",
       "      <td>03-Apr-52</td>\n",
       "      <td>CORPORATE OFFICE</td>\n",
       "    </tr>\n",
       "    <tr>\n",
       "      <th>1</th>\n",
       "      <td>100199</td>\n",
       "      <td>UPENDRA P. SUBEDI</td>\n",
       "      <td>NP</td>\n",
       "      <td>NP</td>\n",
       "      <td>9009</td>\n",
       "      <td>1500</td>\n",
       "      <td>1</td>\n",
       "      <td>18</td>\n",
       "      <td>011801001998</td>\n",
       "      <td>NPR</td>\n",
       "      <td>...</td>\n",
       "      <td>True</td>\n",
       "      <td>True</td>\n",
       "      <td>True</td>\n",
       "      <td>False</td>\n",
       "      <td>9841464720</td>\n",
       "      <td>13-Sep-17</td>\n",
       "      <td>10-Jan-25</td>\n",
       "      <td>16-Apr-19</td>\n",
       "      <td>14-Jul-42</td>\n",
       "      <td>CORPORATE OFFICE</td>\n",
       "    </tr>\n",
       "    <tr>\n",
       "      <th>2</th>\n",
       "      <td>67038</td>\n",
       "      <td>SIDDHI BHANDARI</td>\n",
       "      <td>NP</td>\n",
       "      <td>NP</td>\n",
       "      <td>9009</td>\n",
       "      <td>1500</td>\n",
       "      <td>1</td>\n",
       "      <td>99</td>\n",
       "      <td>019900670380</td>\n",
       "      <td>NPR</td>\n",
       "      <td>...</td>\n",
       "      <td>True</td>\n",
       "      <td>False</td>\n",
       "      <td>True</td>\n",
       "      <td>True</td>\n",
       "      <td>9841369614</td>\n",
       "      <td>08-Jul-10</td>\n",
       "      <td>08-Jul-10</td>\n",
       "      <td>08-Jul-10</td>\n",
       "      <td>15-Sep-35</td>\n",
       "      <td>CORPORATE OFFICE</td>\n",
       "    </tr>\n",
       "    <tr>\n",
       "      <th>3</th>\n",
       "      <td>67441</td>\n",
       "      <td>SHOBHA SHRESTHA</td>\n",
       "      <td>NP</td>\n",
       "      <td>NP</td>\n",
       "      <td>9009</td>\n",
       "      <td>1500</td>\n",
       "      <td>1</td>\n",
       "      <td>21</td>\n",
       "      <td>012100674414</td>\n",
       "      <td>NPR</td>\n",
       "      <td>...</td>\n",
       "      <td>False</td>\n",
       "      <td>False</td>\n",
       "      <td>True</td>\n",
       "      <td>False</td>\n",
       "      <td>9856041044</td>\n",
       "      <td>02-Mar-08</td>\n",
       "      <td>24-Apr-19</td>\n",
       "      <td>11-Jan-25</td>\n",
       "      <td>29-Jan-36</td>\n",
       "      <td>CORPORATE OFFICE</td>\n",
       "    </tr>\n",
       "    <tr>\n",
       "      <th>4</th>\n",
       "      <td>444277</td>\n",
       "      <td>APURVA RAUNIYAR</td>\n",
       "      <td>NP</td>\n",
       "      <td>NP</td>\n",
       "      <td>9009</td>\n",
       "      <td>1500</td>\n",
       "      <td>1</td>\n",
       "      <td>21</td>\n",
       "      <td>012104442772</td>\n",
       "      <td>NPR</td>\n",
       "      <td>...</td>\n",
       "      <td>True</td>\n",
       "      <td>True</td>\n",
       "      <td>True</td>\n",
       "      <td>False</td>\n",
       "      <td>9823452053</td>\n",
       "      <td>25-Sep-17</td>\n",
       "      <td>03-Jan-25</td>\n",
       "      <td>05-Jan-25</td>\n",
       "      <td>12-Nov-50</td>\n",
       "      <td>CORPORATE OFFICE</td>\n",
       "    </tr>\n",
       "    <tr>\n",
       "      <th>5</th>\n",
       "      <td>403653</td>\n",
       "      <td>DIBYA RAJ POKHAREL</td>\n",
       "      <td>NP</td>\n",
       "      <td>NP</td>\n",
       "      <td>9009</td>\n",
       "      <td>1500</td>\n",
       "      <td>1</td>\n",
       "      <td>21</td>\n",
       "      <td>012104036537</td>\n",
       "      <td>NPR</td>\n",
       "      <td>...</td>\n",
       "      <td>False</td>\n",
       "      <td>True</td>\n",
       "      <td>True</td>\n",
       "      <td>False</td>\n",
       "      <td>9842072607</td>\n",
       "      <td>03-Aug-12</td>\n",
       "      <td>02-Jan-25</td>\n",
       "      <td>28-Apr-19</td>\n",
       "      <td>28-Sep-37</td>\n",
       "      <td>CORPORATE OFFICE</td>\n",
       "    </tr>\n",
       "    <tr>\n",
       "      <th>6</th>\n",
       "      <td>164201</td>\n",
       "      <td>BIKRAM PRAJAPATI</td>\n",
       "      <td>NP</td>\n",
       "      <td>NP</td>\n",
       "      <td>9009</td>\n",
       "      <td>1500</td>\n",
       "      <td>1</td>\n",
       "      <td>18</td>\n",
       "      <td>011801642016</td>\n",
       "      <td>NPR</td>\n",
       "      <td>...</td>\n",
       "      <td>False</td>\n",
       "      <td>True</td>\n",
       "      <td>True</td>\n",
       "      <td>False</td>\n",
       "      <td>9841745446</td>\n",
       "      <td>17-Oct-17</td>\n",
       "      <td>19-Dec-18</td>\n",
       "      <td>01-Feb-18</td>\n",
       "      <td>05-Oct-45</td>\n",
       "      <td>CORPORATE OFFICE</td>\n",
       "    </tr>\n",
       "    <tr>\n",
       "      <th>7</th>\n",
       "      <td>444370</td>\n",
       "      <td>BISHAL KHANAL</td>\n",
       "      <td>NP</td>\n",
       "      <td>NP</td>\n",
       "      <td>9009</td>\n",
       "      <td>1500</td>\n",
       "      <td>1</td>\n",
       "      <td>21</td>\n",
       "      <td>012104443702</td>\n",
       "      <td>NPR</td>\n",
       "      <td>...</td>\n",
       "      <td>True</td>\n",
       "      <td>True</td>\n",
       "      <td>True</td>\n",
       "      <td>False</td>\n",
       "      <td>9845212172</td>\n",
       "      <td>14-Feb-18</td>\n",
       "      <td>25-Apr-19</td>\n",
       "      <td>25-Mar-19</td>\n",
       "      <td>11-Nov-46</td>\n",
       "      <td>CORPORATE OFFICE</td>\n",
       "    </tr>\n",
       "    <tr>\n",
       "      <th>8</th>\n",
       "      <td>683010</td>\n",
       "      <td>SAROJ JAIRU</td>\n",
       "      <td>NP</td>\n",
       "      <td>NP</td>\n",
       "      <td>9009</td>\n",
       "      <td>1500</td>\n",
       "      <td>1</td>\n",
       "      <td>21</td>\n",
       "      <td>012106830108</td>\n",
       "      <td>NPR</td>\n",
       "      <td>...</td>\n",
       "      <td>True</td>\n",
       "      <td>True</td>\n",
       "      <td>True</td>\n",
       "      <td>False</td>\n",
       "      <td>9816349098</td>\n",
       "      <td>08-Jul-18</td>\n",
       "      <td>10-Jan-25</td>\n",
       "      <td>26-Dec-24</td>\n",
       "      <td>17-Jul-49</td>\n",
       "      <td>CORPORATE OFFICE</td>\n",
       "    </tr>\n",
       "    <tr>\n",
       "      <th>9</th>\n",
       "      <td>683204</td>\n",
       "      <td>GIRWAN BIKRAM THAPA</td>\n",
       "      <td>NP</td>\n",
       "      <td>NP</td>\n",
       "      <td>9009</td>\n",
       "      <td>1500</td>\n",
       "      <td>1</td>\n",
       "      <td>21</td>\n",
       "      <td>012106832045</td>\n",
       "      <td>NPR</td>\n",
       "      <td>...</td>\n",
       "      <td>True</td>\n",
       "      <td>True</td>\n",
       "      <td>True</td>\n",
       "      <td>False</td>\n",
       "      <td>9802005050</td>\n",
       "      <td>05-Mar-19</td>\n",
       "      <td>08-Jan-25</td>\n",
       "      <td>25-Apr-19</td>\n",
       "      <td>07-May-49</td>\n",
       "      <td>CORPORATE OFFICE</td>\n",
       "    </tr>\n",
       "  </tbody>\n",
       "</table>\n",
       "<p>10 rows × 24 columns</p>\n",
       "</div>"
      ],
      "text/plain": [
       "   custid                 name national resident industry sector  branch  \\\n",
       "0  444500         DEEPAK DHAMI       NP       NP     9009   1500       1   \n",
       "1  100199    UPENDRA P. SUBEDI       NP       NP     9009   1500       1   \n",
       "2   67038      SIDDHI BHANDARI       NP       NP     9009   1500       1   \n",
       "3   67441      SHOBHA SHRESTHA       NP       NP     9009   1500       1   \n",
       "4  444277      APURVA RAUNIYAR       NP       NP     9009   1500       1   \n",
       "5  403653   DIBYA RAJ POKHAREL       NP       NP     9009   1500       1   \n",
       "6  164201     BIKRAM PRAJAPATI       NP       NP     9009   1500       1   \n",
       "7  444370        BISHAL KHANAL       NP       NP     9009   1500       1   \n",
       "8  683010          SAROJ JAIRU       NP       NP     9009   1500       1   \n",
       "9  683204  GIRWAN BIKRAM THAPA       NP       NP     9009   1500       1   \n",
       "\n",
       "   actype     accountno  ccy  ... ibservice  acservice   kyc  inactive  \\\n",
       "0      21  012104445004  NPR  ...      True       True  True     False   \n",
       "1      18  011801001998  NPR  ...      True       True  True     False   \n",
       "2      99  019900670380  NPR  ...      True      False  True      True   \n",
       "3      21  012100674414  NPR  ...     False      False  True     False   \n",
       "4      21  012104442772  NPR  ...      True       True  True     False   \n",
       "5      21  012104036537  NPR  ...     False       True  True     False   \n",
       "6      18  011801642016  NPR  ...     False       True  True     False   \n",
       "7      21  012104443702  NPR  ...      True       True  True     False   \n",
       "8      21  012106830108  NPR  ...      True       True  True     False   \n",
       "9      21  012106832045  NPR  ...      True       True  True     False   \n",
       "\n",
       "     mobileno   opendate    ldrdate    lcrdate        dob bank_branch_account  \n",
       "0  9848627268  01-Jul-18  05-Jan-25  02-Jan-25  03-Apr-52    CORPORATE OFFICE  \n",
       "1  9841464720  13-Sep-17  10-Jan-25  16-Apr-19  14-Jul-42    CORPORATE OFFICE  \n",
       "2  9841369614  08-Jul-10  08-Jul-10  08-Jul-10  15-Sep-35    CORPORATE OFFICE  \n",
       "3  9856041044  02-Mar-08  24-Apr-19  11-Jan-25  29-Jan-36    CORPORATE OFFICE  \n",
       "4  9823452053  25-Sep-17  03-Jan-25  05-Jan-25  12-Nov-50    CORPORATE OFFICE  \n",
       "5  9842072607  03-Aug-12  02-Jan-25  28-Apr-19  28-Sep-37    CORPORATE OFFICE  \n",
       "6  9841745446  17-Oct-17  19-Dec-18  01-Feb-18  05-Oct-45    CORPORATE OFFICE  \n",
       "7  9845212172  14-Feb-18  25-Apr-19  25-Mar-19  11-Nov-46    CORPORATE OFFICE  \n",
       "8  9816349098  08-Jul-18  10-Jan-25  26-Dec-24  17-Jul-49    CORPORATE OFFICE  \n",
       "9  9802005050  05-Mar-19  08-Jan-25  25-Apr-19  07-May-49    CORPORATE OFFICE  \n",
       "\n",
       "[10 rows x 24 columns]"
      ]
     },
     "execution_count": 25,
     "metadata": {},
     "output_type": "execute_result"
    }
   ],
   "source": [
    "df_account.head(10)"
   ]
  },
  {
   "cell_type": "code",
   "execution_count": 26,
   "metadata": {},
   "outputs": [
    {
     "data": {
      "text/plain": [
       "dob\n",
       "  -   -      7472\n",
       "01-Jan-45       9\n",
       "15-Jun-38       7\n",
       "01-Jan-16       7\n",
       "15-Aug-36       7\n",
       "             ... \n",
       "07-Jul-34       1\n",
       "09-Mar-49       1\n",
       "16-Oct-53       1\n",
       "16-Feb-44       1\n",
       "01-Nov-24       1\n",
       "Name: count, Length: 6282, dtype: int64"
      ]
     },
     "execution_count": 26,
     "metadata": {},
     "output_type": "execute_result"
    }
   ],
   "source": [
    "df_account['dob'].value_counts()"
   ]
  },
  {
   "cell_type": "code",
   "execution_count": 34,
   "metadata": {},
   "outputs": [],
   "source": [
    "df = pd.merge(df_account, df_statement, \n",
    "                     on=['custid', 'accountno', 'branch'], \n",
    "                     how='inner', \n",
    "                     suffixes=('_account', '_transaction'))"
   ]
  },
  {
   "cell_type": "code",
   "execution_count": 35,
   "metadata": {},
   "outputs": [
    {
     "data": {
      "text/plain": [
       "Index(['custid', 'name', 'national', 'resident', 'industry', 'sector',\n",
       "       'branch', 'actype', 'accountno', 'ccy_account', 'category', 'acbal',\n",
       "       'lcyacbal', 'mbservice', 'ibservice', 'acservice', 'kyc', 'inactive',\n",
       "       'mobileno', 'opendate', 'ldrdate', 'lcrdate', 'dob',\n",
       "       'bank_branch_account_account', 'stmtid', 'txncode', 'txnrefno',\n",
       "       'narration', 'txndate', 'valuedate', 'ccy_transaction', 'amount',\n",
       "       'lcyamount', 'excrate', 'ourref', 'systemid', 'override', 'inuser',\n",
       "       'indatetime', 'authuser', 'audatetime', 'userbranch',\n",
       "       'bank_branch_account_transaction'],\n",
       "      dtype='object')"
      ]
     },
     "execution_count": 35,
     "metadata": {},
     "output_type": "execute_result"
    }
   ],
   "source": [
    "df.columns"
   ]
  },
  {
   "cell_type": "code",
   "execution_count": 36,
   "metadata": {},
   "outputs": [
    {
     "data": {
      "text/plain": [
       "(4297, 43)"
      ]
     },
     "execution_count": 36,
     "metadata": {},
     "output_type": "execute_result"
    }
   ],
   "source": [
    "df.shape"
   ]
  },
  {
   "cell_type": "code",
   "execution_count": 39,
   "metadata": {},
   "outputs": [
    {
     "data": {
      "text/plain": [
       "(24, 22, 43)"
      ]
     },
     "execution_count": 39,
     "metadata": {},
     "output_type": "execute_result"
    }
   ],
   "source": [
    "len(df_account.columns), len(df_statement.columns), len(df.columns)"
   ]
  },
  {
   "cell_type": "code",
   "execution_count": 38,
   "metadata": {},
   "outputs": [
    {
     "data": {
      "text/plain": [
       "ccy_account\n",
       "NPR    4069\n",
       "USD     140\n",
       "INR      35\n",
       "EUR      26\n",
       "JPY      15\n",
       "9.9       7\n",
       "AUD       2\n",
       "GBP       2\n",
       "1.2       1\n",
       "Name: count, dtype: int64"
      ]
     },
     "execution_count": 38,
     "metadata": {},
     "output_type": "execute_result"
    }
   ],
   "source": [
    "df['ccy_account'].value_counts()"
   ]
  }
 ],
 "metadata": {
  "kernelspec": {
   "display_name": "bank",
   "language": "python",
   "name": "python3"
  },
  "language_info": {
   "codemirror_mode": {
    "name": "ipython",
    "version": 3
   },
   "file_extension": ".py",
   "mimetype": "text/x-python",
   "name": "python",
   "nbconvert_exporter": "python",
   "pygments_lexer": "ipython3",
   "version": "3.11.9"
  }
 },
 "nbformat": 4,
 "nbformat_minor": 2
}
